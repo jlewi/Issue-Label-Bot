{
 "cells": [
  {
   "cell_type": "markdown",
   "metadata": {},
   "source": [
    "## Background\n",
    "\n",
    "The goal of the MLapp project is to provide the following:\n",
    "\n",
    "1. Illustrate how to build machine learning powered developer tools using the [GitHub Api](https://developer.github.com/v3/) and Flask.  We would like to show data scientists how to build exciting data products using machine learning on the GitHub marketplace, that developers can use.  Specifically, we will build an illustrative data product that will automatically label issues.  \n",
    "\n",
    "2. Gather feedback and iterate \n",
    "\n",
    "\n",
    "The scope of this notebook is to addresses part of goal #1, by illustrating how we can acquire a dataset of GitHub issue labels and train a classifier.  \n",
    "\n",
    "The top issues on GitHub by count are illustrated in [this spreadsheet](https://docs.google.com/spreadsheets/d/1NPacnVsyZMBneeewvPGhCx512A1RPYf8ktDN_RpKeS4/edit?usp=sharing).  To keep things simple, we will build a model to classify an issue as a `bug`, `feature` or `question`.  We use hueristics to collapse a set of issue labels into these three categories, which can be viewed [in this query](https://console.cloud.google.com/bigquery?sq=123474043329:01abf8866144486f932c756730ddaff1).  \n",
    "\n",
    "The heueristic for these class labels are contained within the below case statement:\n",
    "\n",
    "```{sql}\n",
    "  CASE when labels like '%bug%' and labels not like '%not bug%' then True else False end as Bug_Flag,\n",
    "  CASE when labels like '%feature%' or labels like '%enhancement%' or labels like '%improvement%' or labels like '%request%' then True else False end as Feature_Flag,\n",
    "  CASE when labels like '%question%' or labels like '%discussion%' then True else False end as Question_Flag,\n",
    "```\n",
    "    the above case statement is located within [this query](https://console.cloud.google.com/bigquery?sq=123474043329:01abf8866144486f932c756730ddaff1)\n",
    "    \n",
    "\n",
    "The following alternative projects were tried before this task that we did not pursue further:\n",
    " - Transfer learning using the [GitHub Issue Summarizer](https://github.com/hamelsmu/Seq2Seq_Tutorial) to enable the prediction of custom labels on existing repos.  Found that this did not work well as there is a considerable amount of noise with regards to custom labels in repositories and often not enough data to adequately predict this.  \n",
    " - Tried to classify more than the above three classes, however the human-labeled issues are very subjective and it is not clear what is a question vs. a bug.  \n",
    " - Tried multi-label classification since labels can co-occur.  There is very little overlap between `bug`, `feature` and `question` labels, so we decided to simplify things and make this a multi-class classificaiton problem instead.  \n",
    "\n",
    "\n",
    "Note: the code in this notebook was executed on a [p3.8xlarge](https://aws.amazon.com/ec2/instance-types/p3/) instance on AWS.\n",
    "\n",
    "## Outline \n",
    "\n",
    "This notebook will follow these steps:\n",
    "\n",
    "1. Download and partition dataset\n",
    "2. Pre-process dataset\n",
    "2. Build model architecture & Train Model\n",
    "3. Evaluate Model\n"
   ]
  },
  {
   "cell_type": "code",
   "execution_count": 1,
   "metadata": {},
   "outputs": [
    {
     "ename": "AttributeError",
     "evalue": "module 'fairing' has no attribute '__version__'",
     "output_type": "error",
     "traceback": [
      "\u001b[0;31m---------------------------------------------------------------------------\u001b[0m",
      "\u001b[0;31mAttributeError\u001b[0m                            Traceback (most recent call last)",
      "\u001b[0;32m<ipython-input-1-69adf8e02a7e>\u001b[0m in \u001b[0;36m<module>\u001b[0;34m\u001b[0m\n\u001b[1;32m      1\u001b[0m \u001b[0;32mimport\u001b[0m \u001b[0mfairing\u001b[0m\u001b[0;34m\u001b[0m\u001b[0;34m\u001b[0m\u001b[0m\n\u001b[0;32m----> 2\u001b[0;31m \u001b[0mfairing\u001b[0m\u001b[0;34m.\u001b[0m\u001b[0m__version__\u001b[0m\u001b[0;34m\u001b[0m\u001b[0;34m\u001b[0m\u001b[0m\n\u001b[0m",
      "\u001b[0;31mAttributeError\u001b[0m: module 'fairing' has no attribute '__version__'"
     ]
    }
   ],
   "source": [
    "import fairing\n",
    "#fairing.__version__"
   ]
  },
  {
   "cell_type": "code",
   "execution_count": 61,
   "metadata": {},
   "outputs": [],
   "source": [
    "# It looks like Seldon requires the file name to be the same as the class name\n",
    "# fairing will use the same filename as the notebook but change the extension to .py\n",
    "# https://docs.seldon.io/projects/seldon-core/en/latest/python/python_wrapping.html\n",
    "class prediction_fairing(object):\n",
    "    \n",
    "    def __init__(self):\n",
    "#         self.train_input = \"ames_dataset/train.csv\"\n",
    "#         self.n_estimators = 50\n",
    "#         self.learning_rate = 0.1\n",
    "#         self.model_file = \"trained_ames_model.dat\"\n",
    "        self.model = None\n",
    "\n",
    "    def train(self):\n",
    "        pass\n",
    "#         (train_X, train_y), (test_X, test_y) = read_input(self.train_input)\n",
    "#         model = train_model(train_X,\n",
    "#                           train_y,\n",
    "#                           test_X,\n",
    "#                           test_y,\n",
    "#                           self.n_estimators,\n",
    "#                           self.learning_rate)\n",
    "\n",
    "#         eval_model(model, test_X, test_y)\n",
    "#         save_model(model, self.model_file)\n",
    "\n",
    "    def predict(self, X, feature_names):\n",
    "        \"\"\"Predict using the model for given ndarray.\"\"\"\n",
    "        if not self.model:\n",
    "            logging.info(\"Loading the model\")\n",
    "            # Copy model from GCS\n",
    "            #self.model = joblib.load(self.model_file)\n",
    "            #load the best model\n",
    "#             best_model = load_model('Issue_Label_v1_best_model.hdf5')\n",
    "\n",
    "#             #load the pre-processors\n",
    "#             with open('title_pp.dpkl', 'rb') as f:\n",
    "#                 title_pp = dpickle.load(f)\n",
    "\n",
    "#             with open('body_pp.dpkl', 'rb') as f:\n",
    "#                 body_pp = dpickle.load(f)\n",
    "\n",
    "#             # instantiate the IssueLabeler object\n",
    "#             issue_labeler = IssueLabeler(body_text_preprocessor=body_pp,\n",
    "#                                          title_text_preprocessor=title_pp,\n",
    "#                                          model=best_model)\n",
    "        # Do any preprocessing\n",
    "#         prediction = self.model.predict(data=X)\n",
    "#         # Do any postprocessing\n",
    "#         return [[prediction.item(0), prediction.item(0)]]\n",
    "        return x"
   ]
  },
  {
   "cell_type": "code",
   "execution_count": 3,
   "metadata": {},
   "outputs": [],
   "source": [
    "import logging\n",
    "logging.basicConfig(format='%(message)s')\n",
    "logging.getLogger().setLevel(logging.INFO)"
   ]
  },
  {
   "cell_type": "code",
   "execution_count": 47,
   "metadata": {},
   "outputs": [],
   "source": [
    "# import fairing\n",
    "\n",
    "# # Setting up google container repositories (GCR) for storing output containers\n",
    "# # You can use any docker container registry istead of GCR\n",
    "GCP_PROJECT = fairing.cloud.gcp.guess_project_name()\n",
    "DOCKER_REGISTRY = 'gcr.io/{}/fairing-job'.format(GCP_PROJECT)\n",
    "# fairing.config.set_builder('docker', registry=DOCKER_REGISTRY, base_image=base_image)"
   ]
  },
  {
   "cell_type": "code",
   "execution_count": 21,
   "metadata": {},
   "outputs": [
    {
     "name": "stdout",
     "output_type": "stream",
     "text": [
      "Activated service account credentials for: [label-issues-0409-user@code-search-demo.iam.gserviceaccount.com]\n",
      "\u001b[1;33mWARNING:\u001b[0m `docker` not in system PATH.\n",
      "`docker` and `docker-credential-gcloud` need to be in the same PATH in order to work correctly together.\n",
      "gcloud's Docker credential helper can be configured but it will not work until this is corrected.\n",
      "gcloud credential helpers already registered correctly.\n"
     ]
    }
   ],
   "source": [
    "#import os\n",
    "#os.getenv(\"GOOGLE_APPLICATION_CREDENTIALS\")\n",
    "!gcloud auth activate-service-account --key-file=${GOOGLE_APPLICATION_CREDENTIALS}\n",
    "!gcloud auth configure-docker --quiet\n",
    "\n",
    "# Append should be the default so this may not be necessary\n",
    "fairing.config.set_builder(name='append', base_image=\"seldonio/seldon-core-s2i-python3:0.4\")"
   ]
  },
  {
   "cell_type": "code",
   "execution_count": 20,
   "metadata": {},
   "outputs": [
    {
     "data": {
      "text/plain": [
       "'gcr.io/kubeflow-images-public/fairing:dev'"
      ]
     },
     "execution_count": 20,
     "metadata": {},
     "output_type": "execute_result"
    }
   ],
   "source": [
    "from fairing import constants\n",
    "constants.constants."
   ]
  },
  {
   "cell_type": "code",
   "execution_count": 64,
   "metadata": {},
   "outputs": [
    {
     "name": "stderr",
     "output_type": "stream",
     "text": [
      "Building image...\n",
      "Loading Docker credentials for repository 'seldonio/seldon-core-s2i-python3:0.4'\n",
      "Image successfully built in 0.8890350019992184s.\n",
      "Pushing image gcr.io/code-search-demo/fairing-job:EFD09386...\n",
      "Loading Docker credentials for repository 'gcr.io/code-search-demo/fairing-job:EFD09386'\n",
      "Invoking 'docker-credential-gcloud' to obtain Docker credentials.\n",
      "Successfully obtained Docker credentials.\n",
      "Uploading gcr.io/code-search-demo/fairing-job:EFD09386\n",
      "Layer sha256:0c1db95989906f161007d8ef2a6ef6e0ec64bc15bf2c993fd002edbdfc7aa7df exists, skipping\n",
      "Layer sha256:46b64f8f5cd275ca04071c8cd36170990c26b5cce6bcb440579cb4a9094fc7b4 exists, skipping\n",
      "Layer sha256:425317e6171bfb0c70b2fa348dfcc0ae2166734273450aa05aa04be43b9278d7 exists, skipping\n",
      "Layer sha256:087a57faf9491b1b82a83e26bc8cc90c90c30e4a4d858b57ddd5b4c2c90095f6 exists, skipping\n",
      "Layer sha256:d6341e30912f12f56e18564a3b582853f65376766f5f9d641a68a724ed6db88f exists, skipping\n",
      "Layer sha256:a86c8ce7a2ae5a681a1a702074121ed8c6df9b2f044e61c6aacd87e4c80f7299 exists, skipping\n",
      "Layer sha256:2eeb5ce9b9240a928b0a799f9f2601027e2c6b7525394ae5c371f124058489d7 exists, skipping\n",
      "Layer sha256:da4d8c6b3f1d6f339ae31ab5624be041df02aff9d3f7f085bee0be70d5510be9 exists, skipping\n",
      "Layer sha256:5d71636fb824265e30ff34bf20737c9cdc4f5af28b6bce86f08215c55b89bfab exists, skipping\n",
      "Layer sha256:687ed2fb2a0d7da5503478759fd00c23970b65d02b317119b3fb9025038a2594 exists, skipping\n",
      "Layer sha256:df57ae687ef5b466a3e956951a4a61f879084f89228b7d34cf20eee4b730f160 exists, skipping\n",
      "Layer sha256:a8c5303780550b746a4781e5e4cd893121d8019e971414a2a1273d54486b4eb9 exists, skipping\n",
      "Layer sha256:620aea26e85367b08cdf1f6768491fb44df6a2a71f7d663f835b1692e849c3ee exists, skipping\n",
      "Layer sha256:54f7e8ac135a5f502a6ee9537ef3d64b1cd2fa570dc0a40b4d3b6f7ac81e7486 exists, skipping\n",
      "Layer sha256:20a921d442b4d8394774661e81f061ec7103fae373b3c80ef544f9e679e41b3c pushed.\n",
      "Layer sha256:e09f9cc3573b6ad540e4a3e52194a1189a27c01026eff0137356218c653ebcf1 pushed.\n",
      "Finished upload of: gcr.io/code-search-demo/fairing-job:EFD09386\n",
      "Pushed image gcr.io/code-search-demo/fairing-job:EFD09386 in 3.0956392949992733s.\n"
     ]
    },
    {
     "ename": "AttributeError",
     "evalue": "'AppendBuilder' object has no attribute 'getnerate_pod_spec'",
     "output_type": "error",
     "traceback": [
      "\u001b[0;31m---------------------------------------------------------------------------\u001b[0m",
      "\u001b[0;31mAttributeError\u001b[0m                            Traceback (most recent call last)",
      "\u001b[0;32m<ipython-input-64-5b68f6090803>\u001b[0m in \u001b[0;36m<module>\u001b[0;34m\u001b[0m\n\u001b[1;32m      6\u001b[0m \u001b[0mbuilder\u001b[0m\u001b[0;34m=\u001b[0m\u001b[0mfairing\u001b[0m\u001b[0;34m.\u001b[0m\u001b[0mconfig\u001b[0m\u001b[0;34m.\u001b[0m\u001b[0mget_builder\u001b[0m\u001b[0;34m(\u001b[0m\u001b[0mpreprocessor\u001b[0m\u001b[0;34m)\u001b[0m\u001b[0;34m\u001b[0m\u001b[0;34m\u001b[0m\u001b[0m\n\u001b[1;32m      7\u001b[0m \u001b[0mbuilder\u001b[0m\u001b[0;34m.\u001b[0m\u001b[0mbuild\u001b[0m\u001b[0;34m(\u001b[0m\u001b[0;34m)\u001b[0m\u001b[0;34m\u001b[0m\u001b[0;34m\u001b[0m\u001b[0m\n\u001b[0;32m----> 8\u001b[0;31m \u001b[0mpod_spec\u001b[0m\u001b[0;34m=\u001b[0m\u001b[0mbuilder\u001b[0m\u001b[0;34m.\u001b[0m\u001b[0mgetnerate_pod_spec\u001b[0m\u001b[0;34m(\u001b[0m\u001b[0;34m)\u001b[0m\u001b[0;34m\u001b[0m\u001b[0;34m\u001b[0m\u001b[0m\n\u001b[0m\u001b[1;32m      9\u001b[0m \u001b[0;31m#deployer = fairing.config.get_deployer()\u001b[0m\u001b[0;34m\u001b[0m\u001b[0;34m\u001b[0m\u001b[0;34m\u001b[0m\u001b[0m\n\u001b[1;32m     10\u001b[0m \u001b[0;34m\u001b[0m\u001b[0m\n",
      "\u001b[0;31mAttributeError\u001b[0m: 'AppendBuilder' object has no attribute 'getnerate_pod_spec'"
     ]
    }
   ],
   "source": [
    "fairing.config.set_deployer('serving', serving_class=\"prediction_fairing\")\n",
    "fairing.config.set_preprocessor('notebook')\n",
    "\n",
    "# These are the commands that fairing.run calls\n",
    "preprocessor=fairing.config.get_preprocessor()\n",
    "builder=fairing.config.get_builder(preprocessor)\n",
    "builder.build()\n",
    "pod_spec=builder.generate_pod_spec()\n",
    "#deployer = fairing.config.get_deployer()\n",
    "\n",
    "\n",
    "#fairing.config.run()"
   ]
  },
  {
   "cell_type": "code",
   "execution_count": 66,
   "metadata": {},
   "outputs": [
    {
     "data": {
      "text/plain": [
       "{'active_deadline_seconds': None,\n",
       " 'affinity': None,\n",
       " 'automount_service_account_token': None,\n",
       " 'containers': [{'args': None,\n",
       "                 'command': ['python', '/app/prediction_fairing.py'],\n",
       "                 'env': [{'name': 'FAIRING_RUNTIME',\n",
       "                          'value': '1',\n",
       "                          'value_from': None}],\n",
       "                 'env_from': None,\n",
       "                 'image': 'gcr.io/code-search-demo/fairing-job:EFD09386',\n",
       "                 'image_pull_policy': None,\n",
       "                 'lifecycle': None,\n",
       "                 'liveness_probe': None,\n",
       "                 'name': 'model',\n",
       "                 'ports': None,\n",
       "                 'readiness_probe': None,\n",
       "                 'resources': None,\n",
       "                 'security_context': {'allow_privilege_escalation': None,\n",
       "                                      'capabilities': None,\n",
       "                                      'privileged': None,\n",
       "                                      'proc_mount': None,\n",
       "                                      'read_only_root_filesystem': None,\n",
       "                                      'run_as_group': None,\n",
       "                                      'run_as_non_root': None,\n",
       "                                      'run_as_user': 0,\n",
       "                                      'se_linux_options': None},\n",
       "                 'stdin': None,\n",
       "                 'stdin_once': None,\n",
       "                 'termination_message_path': None,\n",
       "                 'termination_message_policy': None,\n",
       "                 'tty': None,\n",
       "                 'volume_devices': None,\n",
       "                 'volume_mounts': None,\n",
       "                 'working_dir': None}],\n",
       " 'dns_config': None,\n",
       " 'dns_policy': None,\n",
       " 'enable_service_links': None,\n",
       " 'host_aliases': None,\n",
       " 'host_ipc': None,\n",
       " 'host_network': None,\n",
       " 'host_pid': None,\n",
       " 'hostname': None,\n",
       " 'image_pull_secrets': None,\n",
       " 'init_containers': None,\n",
       " 'node_name': None,\n",
       " 'node_selector': None,\n",
       " 'priority': None,\n",
       " 'priority_class_name': None,\n",
       " 'readiness_gates': None,\n",
       " 'restart_policy': None,\n",
       " 'runtime_class_name': None,\n",
       " 'scheduler_name': None,\n",
       " 'security_context': None,\n",
       " 'service_account': None,\n",
       " 'service_account_name': None,\n",
       " 'share_process_namespace': None,\n",
       " 'subdomain': None,\n",
       " 'termination_grace_period_seconds': None,\n",
       " 'tolerations': None,\n",
       " 'volumes': None}"
      ]
     },
     "execution_count": 66,
     "metadata": {},
     "output_type": "execute_result"
    }
   ],
   "source": [
    "pod_spec=builder.generate_pod_spec()\n",
    "pod_spec"
   ]
  },
  {
   "cell_type": "code",
   "execution_count": 49,
   "metadata": {},
   "outputs": [
    {
     "name": "stderr",
     "output_type": "stream",
     "text": [
      "Using preprocessor: <class 'fairing.preprocessors.function.FunctionPreProcessor'>\n",
      "Using docker registry: gcr.io/code-search-demo/fairing-job\n",
      "Using builder: <class 'fairing.builders.cluster.cluster.ClusterBuilder'>\n",
      "/opt/conda/lib/python3.6/site-packages/fairing/__init__.py already exists in Fairing context, skipping...\n",
      "/opt/conda/lib/python3.6/site-packages/fairing/__init__.py already exists in Fairing context, skipping...\n",
      "Waiting for fairing-builder-mzqsn to start...\n",
      "Waiting for fairing-builder-mzqsn to start...\n",
      "Pod started running True\n"
     ]
    },
    {
     "name": "stdout",
     "output_type": "stream",
     "text": [
      "\u001b[36mINFO\u001b[0m[0000] Downloading base image python:3.6.7\n",
      "ERROR: logging before flag.Parse: E0410 04:44:24.887139       1 metadata.go:142] while reading 'google-dockercfg' metadata: http status code: 404 while fetching url http://metadata.google.internal./computeMetadata/v1/instance/attributes/google-dockercfg\n",
      "ERROR: logging before flag.Parse: E0410 04:44:24.890825       1 metadata.go:159] while reading 'google-dockercfg-url' metadata: http status code: 404 while fetching url http://metadata.google.internal./computeMetadata/v1/instance/attributes/google-dockercfg-url\n",
      "2019/04/10 04:44:24 No matching credentials were found, falling back on anonymous\n",
      "\u001b[36mINFO\u001b[0m[0001] Executing 0 build triggers\n",
      "\u001b[36mINFO\u001b[0m[0001] Unpacking rootfs as cmd RUN if [ -e requirements.txt ];then pip install --no-cache -r requirements.txt; fi requires it.\n",
      "\u001b[36mINFO\u001b[0m[0020] Taking snapshot of full filesystem...\n",
      "\u001b[36mINFO\u001b[0m[0020] Skipping paths under /dev, as it is a whitelisted directory\n",
      "\u001b[36mINFO\u001b[0m[0020] Skipping paths under /etc/secrets, as it is a whitelisted directory\n",
      "\u001b[36mINFO\u001b[0m[0020] Skipping paths under /kaniko, as it is a whitelisted directory\n",
      "\u001b[36mINFO\u001b[0m[0020] Skipping paths under /proc, as it is a whitelisted directory\n",
      "\u001b[36mINFO\u001b[0m[0020] Skipping paths under /sys, as it is a whitelisted directory\n",
      "\u001b[36mINFO\u001b[0m[0020] Skipping paths under /var/run, as it is a whitelisted directory\n",
      "\u001b[36mINFO\u001b[0m[0029] WORKDIR /app/\n",
      "\u001b[36mINFO\u001b[0m[0029] cmd: workdir\n",
      "\u001b[36mINFO\u001b[0m[0029] Changed working directory to /app/\n",
      "\u001b[36mINFO\u001b[0m[0029] Creating directory /app/\n",
      "\u001b[36mINFO\u001b[0m[0029] Taking snapshot of files...\n",
      "\u001b[36mINFO\u001b[0m[0029] ENV FAIRING_RUNTIME 1\n",
      "\u001b[36mINFO\u001b[0m[0029] Using files from context: [/kaniko/buildcontext/app/requirements.txt]\n",
      "\u001b[36mINFO\u001b[0m[0029] COPY /app//requirements.txt /app/\n",
      "\u001b[36mINFO\u001b[0m[0029] Taking snapshot of files...\n",
      "\u001b[36mINFO\u001b[0m[0029] RUN if [ -e requirements.txt ];then pip install --no-cache -r requirements.txt; fi\n",
      "\u001b[36mINFO\u001b[0m[0029] cmd: /bin/sh\n",
      "\u001b[36mINFO\u001b[0m[0029] args: [-c if [ -e requirements.txt ];then pip install --no-cache -r requirements.txt; fi]\n",
      "You are using pip version 18.1, however version 19.0.3 is available.\n",
      "You should consider upgrading via the 'pip install --upgrade pip' command.\n",
      "\u001b[36mINFO\u001b[0m[0031] Taking snapshot of full filesystem...\n",
      "\u001b[36mINFO\u001b[0m[0039] Skipping paths under /dev, as it is a whitelisted directory\n",
      "\u001b[36mINFO\u001b[0m[0039] Skipping paths under /etc/secrets, as it is a whitelisted directory\n",
      "\u001b[36mINFO\u001b[0m[0039] Skipping paths under /kaniko, as it is a whitelisted directory\n",
      "\u001b[36mINFO\u001b[0m[0039] Skipping paths under /proc, as it is a whitelisted directory\n",
      "\u001b[36mINFO\u001b[0m[0039] Skipping paths under /sys, as it is a whitelisted directory\n",
      "\u001b[36mINFO\u001b[0m[0039] Skipping paths under /var/run, as it is a whitelisted directory\n",
      "\u001b[36mINFO\u001b[0m[0045] Using files from context: [/kaniko/buildcontext/app]\n",
      "\u001b[36mINFO\u001b[0m[0045] COPY /app/ /app/\n",
      "\u001b[36mINFO\u001b[0m[0045] Taking snapshot of files...\n",
      "2019/04/10 04:45:09 existing blob: sha256:0c1db95989906f161007d8ef2a6ef6e0ec64bc15bf2c993fd002edbdfc7aa7df\n",
      "2019/04/10 04:45:09 existing blob: sha256:54f7e8ac135a5f502a6ee9537ef3d64b1cd2fa570dc0a40b4d3b6f7ac81e7486\n",
      "2019/04/10 04:45:09 existing blob: sha256:087a57faf9491b1b82a83e26bc8cc90c90c30e4a4d858b57ddd5b4c2c90095f6\n",
      "2019/04/10 04:45:09 existing blob: sha256:2eeb5ce9b9240a928b0a799f9f2601027e2c6b7525394ae5c371f124058489d7\n",
      "2019/04/10 04:45:09 existing blob: sha256:687ed2fb2a0d7da5503478759fd00c23970b65d02b317119b3fb9025038a2594\n",
      "2019/04/10 04:45:09 existing blob: sha256:620aea26e85367b08cdf1f6768491fb44df6a2a71f7d663f835b1692e849c3ee\n",
      "2019/04/10 04:45:09 existing blob: sha256:5d71636fb824265e30ff34bf20737c9cdc4f5af28b6bce86f08215c55b89bfab\n",
      "2019/04/10 04:45:09 existing blob: sha256:d6341e30912f12f56e18564a3b582853f65376766f5f9d641a68a724ed6db88f\n",
      "2019/04/10 04:45:10 existing blob: sha256:a8c5303780550b746a4781e5e4cd893121d8019e971414a2a1273d54486b4eb9\n",
      "2019/04/10 04:45:11 pushed blob sha256:facddfe37ab1c8291fae712e0c50d56531adb7d158c108540fdc749a4b192abd\n",
      "2019/04/10 04:45:11 pushed blob sha256:82ddb4b839e10ce17f0fd4e680107c2ba0d1917fef311c52ee96b820e846a39b\n",
      "2019/04/10 04:45:11 pushed blob sha256:3bd8f9a36a9ac0b8a1fcc0ca9ff90444cb9af0b3ad1511490a175d903b21ade9\n",
      "2019/04/10 04:45:11 pushed blob sha256:8d973dc20aa7481c569282a5dc00876d73c56580e4890202cd76cce7ec6f4abd\n",
      "2019/04/10 04:45:11 pushed blob sha256:ba6a8193a2fc0c16845714674822066a77aadaa9b62987c4da57024be20f9210\n",
      "2019/04/10 04:45:12 gcr.io/code-search-demo/fairing-job/fairing-job:A4AA586A: digest: sha256:77882ab68f448076e49bf9c42210d42b4e7c378a5cfd63a27e8547281dd5e8a3 size: 2388\n"
     ]
    },
    {
     "name": "stderr",
     "output_type": "stream",
     "text": [
      "Endpoint fairing-deployer-6h7kc launched.\n"
     ]
    },
    {
     "name": "stdout",
     "output_type": "stream",
     "text": [
      "Waiting for prediction endpoint to come up...\n"
     ]
    },
    {
     "name": "stderr",
     "output_type": "stream",
     "text": [
      "Prediction endpoint: http://35.237.111.213:5000/predict\n"
     ]
    }
   ],
   "source": [
    "# This is using the high level API\n",
    "# Based on this image:\n",
    "# https://github.com/kubeflow/fairing/blob/master/examples/prediction/xgboost-high-level-apis.ipynb\n",
    "\n",
    "import sys\n",
    "PY_VERSION = \".\".join([str(x) for x in sys.version_info[0:3]])\n",
    "BASE_IMAGE = 'python:{}'.format(PY_VERSION)\n",
    "\n",
    "from fairing import PredictionEndpoint\n",
    "from fairing.backends import KubeflowGKEBackend\n",
    "endpoint = PredictionEndpoint(LabelPrediction, BASE_IMAGE, input_files=[\"requirements.txt\"],\n",
    "                              docker_registry=DOCKER_REGISTRY, backend=KubeflowGKEBackend())\n",
    "endpoint.create()"
   ]
  },
  {
   "cell_type": "code",
   "execution_count": 18,
   "metadata": {},
   "outputs": [
    {
     "name": "stdout",
     "output_type": "stream",
     "text": [
      "Help on method set_builder in module fairing.config:\n",
      "\n",
      "set_builder(name='append', **kwargs) method of fairing.config.Config instance\n",
      "\n"
     ]
    }
   ],
   "source": [
    "help(fairing.config.set_builder)"
   ]
  },
  {
   "cell_type": "markdown",
   "metadata": {},
   "source": [
    "# Download and Partition Dataset"
   ]
  },
  {
   "cell_type": "code",
   "execution_count": 9,
   "metadata": {},
   "outputs": [],
   "source": [
    "import pandas as pd\n",
    "from sklearn.model_selection import train_test_split\n",
    "\n",
    "pd.set_option('max_colwidth', 1000)"
   ]
  },
  {
   "cell_type": "code",
   "execution_count": 10,
   "metadata": {},
   "outputs": [
    {
     "name": "stdout",
     "output_type": "stream",
     "text": [
      "Train: 2,698,578 rows 10 columns\n",
      "Test: 476,220 rows 10 columns\n"
     ]
    }
   ],
   "source": [
    "df = pd.concat([pd.read_csv(f'https://storage.googleapis.com/codenet/issue_labels/00000000000{i}.csv.gz')\n",
    "                for i in range(10)])\n",
    "\n",
    "#split data into train/test\n",
    "traindf, testdf = train_test_split(df, test_size=.15)\n",
    "\n",
    "traindf.to_pickle('traindf.pkl')\n",
    "testdf.to_pickle('testdf.pkl')\n",
    "\n",
    "#print out stats about shape of data\n",
    "print(f'Train: {traindf.shape[0]:,} rows {traindf.shape[1]:,} columns')\n",
    "print(f'Test: {testdf.shape[0]:,} rows {testdf.shape[1]:,} columns')"
   ]
  },
  {
   "cell_type": "markdown",
   "metadata": {},
   "source": [
    "### Discussion of the data"
   ]
  },
  {
   "cell_type": "code",
   "execution_count": 7,
   "metadata": {},
   "outputs": [
    {
     "data": {
      "text/html": [
       "<div>\n",
       "<style scoped>\n",
       "    .dataframe tbody tr th:only-of-type {\n",
       "        vertical-align: middle;\n",
       "    }\n",
       "\n",
       "    .dataframe tbody tr th {\n",
       "        vertical-align: top;\n",
       "    }\n",
       "\n",
       "    .dataframe thead th {\n",
       "        text-align: right;\n",
       "    }\n",
       "</style>\n",
       "<table border=\"1\" class=\"dataframe\">\n",
       "  <thead>\n",
       "    <tr style=\"text-align: right;\">\n",
       "      <th></th>\n",
       "      <th>url</th>\n",
       "      <th>repo</th>\n",
       "      <th>title</th>\n",
       "      <th>body</th>\n",
       "      <th>num_labels</th>\n",
       "      <th>labels</th>\n",
       "      <th>c_bug</th>\n",
       "      <th>c_feature</th>\n",
       "      <th>c_question</th>\n",
       "      <th>class_int</th>\n",
       "    </tr>\n",
       "  </thead>\n",
       "  <tbody>\n",
       "    <tr>\n",
       "      <th>112473</th>\n",
       "      <td>\"https://github.com/DockStation/dockstation/issues/6\"</td>\n",
       "      <td>DockStation/dockstation</td>\n",
       "      <td>feature request: image layers window hide</td>\n",
       "      <td>some feedback for this window:\\r \\r ! image  https://cloud.githubusercontent.com/assets/9369080/25952392/3769f842-3669-11e7-8a91-4ed2de640246.png \\r \\r \\r it's really cool, but blocking.  i think users would prefer to be able hide it  the \\ ok\\  was not hiding it in my case - don't know if it should?</td>\n",
       "      <td>2</td>\n",
       "      <td>[\"enhancement\", \"wish\"]</td>\n",
       "      <td>False</td>\n",
       "      <td>True</td>\n",
       "      <td>False</td>\n",
       "      <td>1</td>\n",
       "    </tr>\n",
       "    <tr>\n",
       "      <th>33329</th>\n",
       "      <td>\"https://github.com/julianschritt/secreth_telegrambot/issues/2\"</td>\n",
       "      <td>julianschritt/secreth_telegrambot</td>\n",
       "      <td>grant group admins permissions to /cancelgame and /startgame</td>\n",
       "      <td>ending a game requires the person who started it to end it. even kicking and re-adding the bot doesn't close an existing game. so if the person who started a game is afk for a long time the bot becomes useless for that group.</td>\n",
       "      <td>1</td>\n",
       "      <td>[\"enhancement\", \"enhancement\"]</td>\n",
       "      <td>False</td>\n",
       "      <td>True</td>\n",
       "      <td>False</td>\n",
       "      <td>1</td>\n",
       "    </tr>\n",
       "    <tr>\n",
       "      <th>95978</th>\n",
       "      <td>\"https://github.com/remotestorage/remotestorage-bookmarks-chrome/issues/3\"</td>\n",
       "      <td>remotestorage/remotestorage-bookmarks-chrome</td>\n",
       "      <td>deprecate in favor of memm?</td>\n",
       "      <td>this thing is super old and nobody's actively maintaining it. i don't know if someone's actively using it, but i think it would make sense to direct people coming here to https://github.com/lesion/memm, which works and is maintained by @lesion, who's also a core contributor to rs.js.</td>\n",
       "      <td>1</td>\n",
       "      <td>[\"question\"]</td>\n",
       "      <td>False</td>\n",
       "      <td>False</td>\n",
       "      <td>True</td>\n",
       "      <td>2</td>\n",
       "    </tr>\n",
       "  </tbody>\n",
       "</table>\n",
       "</div>"
      ],
      "text/plain": [
       "                                                                               url  \\\n",
       "112473                       \"https://github.com/DockStation/dockstation/issues/6\"   \n",
       "33329              \"https://github.com/julianschritt/secreth_telegrambot/issues/2\"   \n",
       "95978   \"https://github.com/remotestorage/remotestorage-bookmarks-chrome/issues/3\"   \n",
       "\n",
       "                                                repo  \\\n",
       "112473                       DockStation/dockstation   \n",
       "33329              julianschritt/secreth_telegrambot   \n",
       "95978   remotestorage/remotestorage-bookmarks-chrome   \n",
       "\n",
       "                                                               title  \\\n",
       "112473                     feature request: image layers window hide   \n",
       "33329   grant group admins permissions to /cancelgame and /startgame   \n",
       "95978                                    deprecate in favor of memm?   \n",
       "\n",
       "                                                                                                                                                                                                                                                                                                                 body  \\\n",
       "112473  some feedback for this window:\\r \\r ! image  https://cloud.githubusercontent.com/assets/9369080/25952392/3769f842-3669-11e7-8a91-4ed2de640246.png \\r \\r \\r it's really cool, but blocking.  i think users would prefer to be able hide it  the \\ ok\\  was not hiding it in my case - don't know if it should?   \n",
       "33329                                                                               ending a game requires the person who started it to end it. even kicking and re-adding the bot doesn't close an existing game. so if the person who started a game is afk for a long time the bot becomes useless for that group.   \n",
       "95978                    this thing is super old and nobody's actively maintaining it. i don't know if someone's actively using it, but i think it would make sense to direct people coming here to https://github.com/lesion/memm, which works and is maintained by @lesion, who's also a core contributor to rs.js.   \n",
       "\n",
       "        num_labels                          labels  c_bug  c_feature  \\\n",
       "112473           2         [\"enhancement\", \"wish\"]  False       True   \n",
       "33329            1  [\"enhancement\", \"enhancement\"]  False       True   \n",
       "95978            1                    [\"question\"]  False      False   \n",
       "\n",
       "        c_question  class_int  \n",
       "112473       False          1  \n",
       "33329        False          1  \n",
       "95978         True          2  "
      ]
     },
     "execution_count": 7,
     "metadata": {},
     "output_type": "execute_result"
    }
   ],
   "source": [
    "# preview data\n",
    "traindf.head(3)"
   ]
  },
  {
   "cell_type": "markdown",
   "metadata": {},
   "source": [
    "Discussion of the data:  \n",
    "\n",
    "- url:        url where you can find this issue\n",
    "- repo:       owner/repo name\n",
    "- title:      title of the issue\n",
    "- body:       body of the issue, not including comments\n",
    "- num_labels: number of issue labels\n",
    "- labels:     an array of labels applied a user manually applied to the issue (represented as a string)\n",
    "- c_bug:      boolean flag that indicates if the issue label corresponds to a bug\n",
    "- c_feature:  boolean flag that indicates if the issue label corresponds to a feature\n",
    "- c_question: boolean flag that indicates if the issue label corresponds to a question\n",
    "- class_int:  integer between 0 - 2 that corresponds to the class label.  **0=bug, 1=feature, 2=question**"
   ]
  },
  {
   "cell_type": "markdown",
   "metadata": {},
   "source": [
    "### Summary Statistics"
   ]
  },
  {
   "cell_type": "markdown",
   "metadata": {},
   "source": [
    "Class frequency **0=bug, 1=feature, 2=question**"
   ]
  },
  {
   "cell_type": "code",
   "execution_count": 14,
   "metadata": {},
   "outputs": [
    {
     "data": {
      "text/plain": [
       "class_int\n",
       "0    1211335\n",
       "1    1231499\n",
       "2     255744\n",
       "dtype: int64"
      ]
     },
     "execution_count": 14,
     "metadata": {},
     "output_type": "execute_result"
    }
   ],
   "source": [
    "traindf.groupby('class_int').size()"
   ]
  },
  {
   "cell_type": "markdown",
   "metadata": {},
   "source": [
    "number of unique repos"
   ]
  },
  {
   "cell_type": "code",
   "execution_count": 28,
   "metadata": {},
   "outputs": [
    {
     "name": "stdout",
     "output_type": "stream",
     "text": [
      " Avg # of issues per repo: 7.6\n",
      " Avg # of issues per org: 8.7\n"
     ]
    }
   ],
   "source": [
    "print(f' Avg # of issues per repo: {len(traindf) / traindf.repo.nunique():.1f}')\n",
    "print(f\" Avg # of issues per org: {len(traindf) / traindf.repo.apply(lambda x: x.split('/')[-1]).nunique():.1f}\")"
   ]
  },
  {
   "cell_type": "markdown",
   "metadata": {},
   "source": [
    "Most popular repos by # of issues:\n",
    "\n",
    " - `pcnt` = percent of total issues in the dataset\n",
    " - `count` = number of issues in the dataset for that repo"
   ]
  },
  {
   "cell_type": "code",
   "execution_count": 38,
   "metadata": {},
   "outputs": [
    {
     "data": {
      "text/html": [
       "<div>\n",
       "<style scoped>\n",
       "    .dataframe tbody tr th:only-of-type {\n",
       "        vertical-align: middle;\n",
       "    }\n",
       "\n",
       "    .dataframe tbody tr th {\n",
       "        vertical-align: top;\n",
       "    }\n",
       "\n",
       "    .dataframe thead th {\n",
       "        text-align: right;\n",
       "    }\n",
       "</style>\n",
       "<table border=\"1\" class=\"dataframe\">\n",
       "  <thead>\n",
       "    <tr style=\"text-align: right;\">\n",
       "      <th></th>\n",
       "      <th>pcnt</th>\n",
       "      <th>count</th>\n",
       "    </tr>\n",
       "    <tr>\n",
       "      <th>repo</th>\n",
       "      <th></th>\n",
       "      <th></th>\n",
       "    </tr>\n",
       "  </thead>\n",
       "  <tbody>\n",
       "    <tr>\n",
       "      <th>Microsoft/vscode</th>\n",
       "      <td>0.005128</td>\n",
       "      <td>16281</td>\n",
       "    </tr>\n",
       "    <tr>\n",
       "      <th>rancher/rancher</th>\n",
       "      <td>0.002450</td>\n",
       "      <td>7779</td>\n",
       "    </tr>\n",
       "    <tr>\n",
       "      <th>MicrosoftDocs/azure-docs</th>\n",
       "      <td>0.001963</td>\n",
       "      <td>6233</td>\n",
       "    </tr>\n",
       "    <tr>\n",
       "      <th>godotengine/godot</th>\n",
       "      <td>0.001952</td>\n",
       "      <td>6198</td>\n",
       "    </tr>\n",
       "    <tr>\n",
       "      <th>ansible/ansible</th>\n",
       "      <td>0.001950</td>\n",
       "      <td>6192</td>\n",
       "    </tr>\n",
       "    <tr>\n",
       "      <th>hashicorp/terraform</th>\n",
       "      <td>0.001649</td>\n",
       "      <td>5235</td>\n",
       "    </tr>\n",
       "    <tr>\n",
       "      <th>kubernetes/kubernetes</th>\n",
       "      <td>0.001621</td>\n",
       "      <td>5147</td>\n",
       "    </tr>\n",
       "    <tr>\n",
       "      <th>lionheart/openradar-mirror</th>\n",
       "      <td>0.001330</td>\n",
       "      <td>4221</td>\n",
       "    </tr>\n",
       "    <tr>\n",
       "      <th>elastic/kibana</th>\n",
       "      <td>0.001201</td>\n",
       "      <td>3813</td>\n",
       "    </tr>\n",
       "    <tr>\n",
       "      <th>magento/magento2</th>\n",
       "      <td>0.001129</td>\n",
       "      <td>3583</td>\n",
       "    </tr>\n",
       "    <tr>\n",
       "      <th>dart-lang/sdk</th>\n",
       "      <td>0.001127</td>\n",
       "      <td>3579</td>\n",
       "    </tr>\n",
       "    <tr>\n",
       "      <th>dotnet/corefx</th>\n",
       "      <td>0.001121</td>\n",
       "      <td>3558</td>\n",
       "    </tr>\n",
       "    <tr>\n",
       "      <th>eclipse/che</th>\n",
       "      <td>0.001114</td>\n",
       "      <td>3538</td>\n",
       "    </tr>\n",
       "    <tr>\n",
       "      <th>brave/browser-laptop</th>\n",
       "      <td>0.001067</td>\n",
       "      <td>3389</td>\n",
       "    </tr>\n",
       "    <tr>\n",
       "      <th>kbower/tickettest1</th>\n",
       "      <td>0.000920</td>\n",
       "      <td>2921</td>\n",
       "    </tr>\n",
       "    <tr>\n",
       "      <th>Kademi/kademi-dev</th>\n",
       "      <td>0.000887</td>\n",
       "      <td>2815</td>\n",
       "    </tr>\n",
       "    <tr>\n",
       "      <th>owncloud/core</th>\n",
       "      <td>0.000819</td>\n",
       "      <td>2600</td>\n",
       "    </tr>\n",
       "    <tr>\n",
       "      <th>elastic/elasticsearch</th>\n",
       "      <td>0.000809</td>\n",
       "      <td>2568</td>\n",
       "    </tr>\n",
       "    <tr>\n",
       "      <th>eslint/eslint</th>\n",
       "      <td>0.000765</td>\n",
       "      <td>2428</td>\n",
       "    </tr>\n",
       "    <tr>\n",
       "      <th>angular/angular</th>\n",
       "      <td>0.000719</td>\n",
       "      <td>2283</td>\n",
       "    </tr>\n",
       "    <tr>\n",
       "      <th>openshift/origin</th>\n",
       "      <td>0.000717</td>\n",
       "      <td>2277</td>\n",
       "    </tr>\n",
       "    <tr>\n",
       "      <th>CartoDB/cartodb</th>\n",
       "      <td>0.000685</td>\n",
       "      <td>2174</td>\n",
       "    </tr>\n",
       "    <tr>\n",
       "      <th>cockroachdb/cockroach</th>\n",
       "      <td>0.000655</td>\n",
       "      <td>2081</td>\n",
       "    </tr>\n",
       "    <tr>\n",
       "      <th>RocketChat/Rocket.Chat</th>\n",
       "      <td>0.000650</td>\n",
       "      <td>2065</td>\n",
       "    </tr>\n",
       "    <tr>\n",
       "      <th>Microsoft/AL</th>\n",
       "      <td>0.000647</td>\n",
       "      <td>2055</td>\n",
       "    </tr>\n",
       "  </tbody>\n",
       "</table>\n",
       "</div>"
      ],
      "text/plain": [
       "                                pcnt  count\n",
       "repo                                       \n",
       "Microsoft/vscode            0.005128  16281\n",
       "rancher/rancher             0.002450   7779\n",
       "MicrosoftDocs/azure-docs    0.001963   6233\n",
       "godotengine/godot           0.001952   6198\n",
       "ansible/ansible             0.001950   6192\n",
       "hashicorp/terraform         0.001649   5235\n",
       "kubernetes/kubernetes       0.001621   5147\n",
       "lionheart/openradar-mirror  0.001330   4221\n",
       "elastic/kibana              0.001201   3813\n",
       "magento/magento2            0.001129   3583\n",
       "dart-lang/sdk               0.001127   3579\n",
       "dotnet/corefx               0.001121   3558\n",
       "eclipse/che                 0.001114   3538\n",
       "brave/browser-laptop        0.001067   3389\n",
       "kbower/tickettest1          0.000920   2921\n",
       "Kademi/kademi-dev           0.000887   2815\n",
       "owncloud/core               0.000819   2600\n",
       "elastic/elasticsearch       0.000809   2568\n",
       "eslint/eslint               0.000765   2428\n",
       "angular/angular             0.000719   2283\n",
       "openshift/origin            0.000717   2277\n",
       "CartoDB/cartodb             0.000685   2174\n",
       "cockroachdb/cockroach       0.000655   2081\n",
       "RocketChat/Rocket.Chat      0.000650   2065\n",
       "Microsoft/AL                0.000647   2055"
      ]
     },
     "execution_count": 38,
     "metadata": {},
     "output_type": "execute_result"
    }
   ],
   "source": [
    "pareto_df = pd.DataFrame({'pcnt': df.groupby('repo').size() / len(df), 'count': df.groupby('repo').size()})\n",
    "pareto_df.sort_values('pcnt', ascending=False).head(20)"
   ]
  },
  {
   "cell_type": "markdown",
   "metadata": {},
   "source": [
    "# Pre-Process Data"
   ]
  },
  {
   "cell_type": "markdown",
   "metadata": {},
   "source": [
    "To process the raw text data, we will use [ktext](https://github.com/hamelsmu/ktext)"
   ]
  },
  {
   "cell_type": "code",
   "execution_count": 50,
   "metadata": {},
   "outputs": [],
   "source": [
    "from ktext.preprocess import processor\n",
    "import dill as dpickle\n",
    "import numpy as np"
   ]
  },
  {
   "cell_type": "markdown",
   "metadata": {},
   "source": [
    "Clean, tokenize, and apply padding / truncating such that each document length = 75th percentile for the dataset.\n",
    "Retain only the top keep_n words in the vocabulary and set the remaining words to 1 which will become common index for rare words.\n",
    "\n",
    "**Warning:** the below block of code can take a long time to execute.\n",
    "\n",
    "#### Learn the vocabulary from the training dataset"
   ]
  },
  {
   "cell_type": "code",
   "execution_count": 40,
   "metadata": {},
   "outputs": [
    {
     "name": "stderr",
     "output_type": "stream",
     "text": [
      "WARNING:root:....tokenizing data\n",
      "WARNING:root:Setting maximum document length to 105 based upon hueristic of 0.75 percentile.\n",
      " See full histogram by insepecting the `document_length_stats` attribute.\n",
      "WARNING:root:(1/2) done. 855 sec\n",
      "WARNING:root:....building corpus\n",
      "WARNING:root:(2/2) done. 145 sec\n",
      "WARNING:root:Finished parsing 2,698,578 documents.\n",
      "WARNING:root:...fit is finished, beginning transform\n",
      "WARNING:root:...padding data\n",
      "WARNING:root:done. 102 sec\n",
      "WARNING:root:....tokenizing data\n",
      "WARNING:root:Setting maximum document length to 10 based upon hueristic of 0.75 percentile.\n",
      " See full histogram by insepecting the `document_length_stats` attribute.\n",
      "WARNING:root:(1/2) done. 66 sec\n",
      "WARNING:root:....building corpus\n",
      "WARNING:root:(2/2) done. 17 sec\n",
      "WARNING:root:Finished parsing 2,698,578 documents.\n",
      "WARNING:root:...fit is finished, beginning transform\n",
      "WARNING:root:...padding data\n",
      "WARNING:root:done. 23 sec\n"
     ]
    },
    {
     "name": "stdout",
     "output_type": "stream",
     "text": [
      "CPU times: user 8min 8s, sys: 32.3 s, total: 8min 40s\n",
      "Wall time: 20min 24s\n"
     ]
    }
   ],
   "source": [
    "%%time\n",
    "\n",
    "train_body_raw = traindf.body.tolist()\n",
    "train_title_raw = traindf.title.tolist()\n",
    "\n",
    "# Clean, tokenize, and apply padding / truncating such that each document length = 75th percentile for the dataset.\n",
    "#  also, retain only the top keep_n words in the vocabulary and set the remaining words\n",
    "#  to 1 which will become common index for rare words \n",
    "\n",
    "# process the issue body data\n",
    "body_pp = processor(hueristic_pct_padding=.75, keep_n=8000)\n",
    "train_body_vecs = body_pp.fit_transform(train_body_raw)\n",
    "\n",
    "# process the title data\n",
    "title_pp = processor(hueristic_pct_padding=.75, keep_n=4500)\n",
    "train_title_vecs = title_pp.fit_transform(train_title_raw)"
   ]
  },
  {
   "cell_type": "markdown",
   "metadata": {},
   "source": [
    "#### Apply transformations to Test Data"
   ]
  },
  {
   "cell_type": "code",
   "execution_count": 41,
   "metadata": {},
   "outputs": [
    {
     "name": "stderr",
     "output_type": "stream",
     "text": [
      "WARNING:root:...tokenizing data\n",
      "WARNING:root:...indexing data\n",
      "WARNING:root:...padding data\n",
      "WARNING:root:...tokenizing data\n",
      "WARNING:root:...indexing data\n",
      "WARNING:root:...padding data\n"
     ]
    },
    {
     "name": "stdout",
     "output_type": "stream",
     "text": [
      "CPU times: user 57.5 s, sys: 31 s, total: 1min 28s\n",
      "Wall time: 4min 16s\n"
     ]
    }
   ],
   "source": [
    "%%time\n",
    "\n",
    "test_body_raw = testdf.body.tolist()\n",
    "test_title_raw = testdf.title.tolist()\n",
    "\n",
    "test_body_vecs = body_pp.transform_parallel(test_body_raw)\n",
    "test_title_vecs = title_pp.transform_parallel(test_title_raw)"
   ]
  },
  {
   "cell_type": "markdown",
   "metadata": {},
   "source": [
    "#### Extract Labels\n",
    "\n",
    "Add an additional dimension to the end to facilitate compatibility with Keras."
   ]
  },
  {
   "cell_type": "code",
   "execution_count": 53,
   "metadata": {},
   "outputs": [],
   "source": [
    "train_labels = np.expand_dims(traindf.class_int.values, -1)\n",
    "test_labels = np.expand_dims(testdf.class_int.values, -1)"
   ]
  },
  {
   "cell_type": "markdown",
   "metadata": {},
   "source": [
    "#### Check shapes"
   ]
  },
  {
   "cell_type": "code",
   "execution_count": 64,
   "metadata": {},
   "outputs": [],
   "source": [
    "# the number of rows in data for the body, title and labels should be the same for both train and test partitions\n",
    "assert train_body_vecs.shape[0] == train_title_vecs.shape[0] == train_labels.shape[0]\n",
    "assert test_body_vecs.shape[0] == test_title_vecs.shape[0] == test_labels.shape[0]"
   ]
  },
  {
   "cell_type": "markdown",
   "metadata": {},
   "source": [
    "#### Save pre-processors and data to disk"
   ]
  },
  {
   "cell_type": "code",
   "execution_count": 55,
   "metadata": {},
   "outputs": [],
   "source": [
    "# Save the preprocessor\n",
    "with open('body_pp.dpkl', 'wb') as f:\n",
    "    dpickle.dump(body_pp, f)\n",
    "\n",
    "with open('title_pp.dpkl', 'wb') as f:\n",
    "    dpickle.dump(title_pp, f)\n",
    "\n",
    "# Save the processed data\n",
    "np.save('train_title_vecs.npy', train_title_vecs)\n",
    "np.save('train_body_vecs.npy', train_body_vecs)\n",
    "np.save('test_body_vecs.npy', test_body_vecs)\n",
    "np.save('test_title_vecs.npy', test_title_vecs)\n",
    "np.save('train_labels.npy', train_labels)\n",
    "np.save('test_labels.npy', test_labels)"
   ]
  },
  {
   "cell_type": "markdown",
   "metadata": {},
   "source": [
    "# Build Architecture & Train Model"
   ]
  },
  {
   "cell_type": "code",
   "execution_count": 8,
   "metadata": {},
   "outputs": [],
   "source": [
    "import tensorflow as tf\n",
    "from tensorflow.keras.utils import multi_gpu_model\n",
    "from tensorflow.keras.models import Model\n",
    "from tensorflow.keras.layers import Input, GRU, Dense, Embedding, BatchNormalization, Concatenate\n",
    "from tensorflow.keras.optimizers import Adam\n",
    "import numpy as np\n",
    "import dill as dpickle"
   ]
  },
  {
   "cell_type": "code",
   "execution_count": 9,
   "metadata": {},
   "outputs": [
    {
     "name": "stdout",
     "output_type": "stream",
     "text": [
      "1.12.0\n"
     ]
    }
   ],
   "source": [
    "print(tf.__version__)"
   ]
  },
  {
   "cell_type": "markdown",
   "metadata": {},
   "source": [
    "Load the data and shape information"
   ]
  },
  {
   "cell_type": "code",
   "execution_count": 3,
   "metadata": {},
   "outputs": [
    {
     "name": "stderr",
     "output_type": "stream",
     "text": [
      "Using TensorFlow backend.\n"
     ]
    }
   ],
   "source": [
    "with open('title_pp.dpkl', 'rb') as f:\n",
    "    title_pp = dpickle.load(f)\n",
    "\n",
    "with open('body_pp.dpkl', 'rb') as f:\n",
    "    body_pp = dpickle.load(f)\n",
    "    \n",
    "#load the training data and labels\n",
    "train_body_vecs = np.load('train_body_vecs.npy')\n",
    "train_title_vecs = np.load('train_title_vecs.npy')\n",
    "train_labels = np.load('train_labels.npy')\n",
    "\n",
    "#load the test data and labels\n",
    "test_body_vecs = np.load('test_body_vecs.npy')\n",
    "test_title_vecs = np.load('test_title_vecs.npy')\n",
    "test_labels = np.load('test_labels.npy')\n",
    "\n",
    "\n",
    "issue_body_doc_length = train_body_vecs.shape[1]\n",
    "issue_title_doc_length = train_title_vecs.shape[1]\n",
    "\n",
    "body_vocab_size = body_pp.n_tokens\n",
    "title_vocab_size = title_pp.n_tokens\n",
    "\n",
    "num_classes = len(set(train_labels[:, 0]))\n",
    "assert num_classes == 3"
   ]
  },
  {
   "cell_type": "markdown",
   "metadata": {},
   "source": [
    "#### Build Model Architecture\n",
    "\n",
    "We did very little hyperparameter tuning.  Keeping model simple as possible."
   ]
  },
  {
   "cell_type": "code",
   "execution_count": 27,
   "metadata": {},
   "outputs": [],
   "source": [
    "body_input = Input(shape=(issue_body_doc_length,), name='Body-Input')\n",
    "title_input = Input(shape=(issue_title_doc_length,), name='Title-Input')\n",
    "\n",
    "body = Embedding(body_vocab_size, 50, name='Body-Embedding')(body_input)\n",
    "title = Embedding(title_vocab_size, 50, name='Title-Embedding')(title_input)\n",
    "\n",
    "body = BatchNormalization()(body)\n",
    "body = GRU(100, name='Body-Encoder')(body)\n",
    "\n",
    "title = BatchNormalization()(title)\n",
    "title = GRU(75, name='Title-Encoder')(title)\n",
    "\n",
    "x = Concatenate(name='Concat')([body, title])\n",
    "x = BatchNormalization()(x)\n",
    "out = Dense(num_classes, activation='softmax')(x)\n",
    "\n",
    "model = Model([body_input, title_input], out)\n",
    "\n",
    "model.compile(optimizer=Adam(lr=0.001), \n",
    "              loss='sparse_categorical_crossentropy', \n",
    "              metrics=['accuracy'])"
   ]
  },
  {
   "cell_type": "code",
   "execution_count": 28,
   "metadata": {},
   "outputs": [
    {
     "name": "stdout",
     "output_type": "stream",
     "text": [
      "__________________________________________________________________________________________________\n",
      "Layer (type)                    Output Shape         Param #     Connected to                     \n",
      "==================================================================================================\n",
      "Body-Input (InputLayer)         (None, 105)          0                                            \n",
      "__________________________________________________________________________________________________\n",
      "Title-Input (InputLayer)        (None, 10)           0                                            \n",
      "__________________________________________________________________________________________________\n",
      "Body-Embedding (Embedding)      (None, 105, 50)      400050      Body-Input[0][0]                 \n",
      "__________________________________________________________________________________________________\n",
      "Title-Embedding (Embedding)     (None, 10, 50)       225050      Title-Input[0][0]                \n",
      "__________________________________________________________________________________________________\n",
      "batch_normalization_15 (BatchNo (None, 105, 50)      200         Body-Embedding[0][0]             \n",
      "__________________________________________________________________________________________________\n",
      "batch_normalization_16 (BatchNo (None, 10, 50)       200         Title-Embedding[0][0]            \n",
      "__________________________________________________________________________________________________\n",
      "Body-Encoder (GRU)              (None, 100)          45300       batch_normalization_15[0][0]     \n",
      "__________________________________________________________________________________________________\n",
      "Title-Encoder (GRU)             (None, 75)           28350       batch_normalization_16[0][0]     \n",
      "__________________________________________________________________________________________________\n",
      "Concat (Concatenate)            (None, 175)          0           Body-Encoder[0][0]               \n",
      "                                                                 Title-Encoder[0][0]              \n",
      "__________________________________________________________________________________________________\n",
      "batch_normalization_17 (BatchNo (None, 175)          700         Concat[0][0]                     \n",
      "__________________________________________________________________________________________________\n",
      "dense_5 (Dense)                 (None, 3)            528         batch_normalization_17[0][0]     \n",
      "==================================================================================================\n",
      "Total params: 700,378\n",
      "Trainable params: 699,828\n",
      "Non-trainable params: 550\n",
      "__________________________________________________________________________________________________\n"
     ]
    }
   ],
   "source": [
    "model.summary()"
   ]
  },
  {
   "cell_type": "markdown",
   "metadata": {},
   "source": [
    "#### Train Model"
   ]
  },
  {
   "cell_type": "code",
   "execution_count": 29,
   "metadata": {},
   "outputs": [],
   "source": [
    "from tensorflow.keras.callbacks import CSVLogger, ModelCheckpoint\n",
    "\n",
    "script_name_base = 'Issue_Label_v1'\n",
    "csv_logger = CSVLogger('{:}.log'.format(script_name_base))\n",
    "model_checkpoint = ModelCheckpoint('{:}_best_model.hdf5'.format(script_name_base),\n",
    "                                   save_best_only=True)"
   ]
  },
  {
   "cell_type": "code",
   "execution_count": 30,
   "metadata": {},
   "outputs": [
    {
     "name": "stdout",
     "output_type": "stream",
     "text": [
      "Train on 2698578 samples, validate on 476220 samples\n",
      "Epoch 1/4\n",
      "2698578/2698578 [==============================] - 603s 223us/step - loss: 0.5008 - acc: 0.8086 - val_loss: 0.4699 - val_acc: 0.8209\n",
      "Epoch 2/4\n",
      "2698578/2698578 [==============================] - 599s 222us/step - loss: 0.4558 - acc: 0.8265 - val_loss: 0.4611 - val_acc: 0.8248\n",
      "Epoch 3/4\n",
      "2698578/2698578 [==============================] - 598s 221us/step - loss: 0.4380 - acc: 0.8332 - val_loss: 0.4593 - val_acc: 0.8250\n",
      "Epoch 4/4\n",
      "2698578/2698578 [==============================] - 597s 221us/step - loss: 0.4230 - acc: 0.8393 - val_loss: 0.4616 - val_acc: 0.8243\n"
     ]
    }
   ],
   "source": [
    "batch_size = 900\n",
    "epochs = 4\n",
    "history = model.fit(x=[train_body_vecs, train_title_vecs], \n",
    "                    y=train_labels,\n",
    "                    batch_size=batch_size,\n",
    "                    epochs=epochs,\n",
    "                    validation_data=[(test_body_vecs, test_title_vecs), test_labels], \n",
    "                    callbacks=[csv_logger, model_checkpoint])"
   ]
  },
  {
   "cell_type": "markdown",
   "metadata": {},
   "source": [
    "# Evaluate Model\n",
    "\n",
    "Compute a confusion matrix"
   ]
  },
  {
   "cell_type": "code",
   "execution_count": 37,
   "metadata": {},
   "outputs": [
    {
     "name": "stderr",
     "output_type": "stream",
     "text": [
      "/usr/local/lib/python3.6/dist-packages/tensorflow/python/ops/gradients_impl.py:112: UserWarning: Converting sparse IndexedSlices to a dense Tensor of unknown shape. This may consume a large amount of memory.\n",
      "  \"Converting sparse IndexedSlices to a dense Tensor of unknown shape. \"\n"
     ]
    }
   ],
   "source": [
    "from tensorflow.keras.models import load_model\n",
    "from utils import plot_confusion_matrix\n",
    "\n",
    "\n",
    "#load the test data and labels\n",
    "test_body_vecs = np.load('test_body_vecs.npy')\n",
    "test_title_vecs = np.load('test_title_vecs.npy')\n",
    "test_labels = np.load('test_labels.npy')\n",
    "\n",
    "#load the best model\n",
    "best_model = load_model('Issue_Label_v1_best_model.hdf5')\n",
    "\n",
    "#get predictions\n",
    "y_pred = np.argmax(best_model.predict(x=[test_body_vecs, test_title_vecs],\n",
    "                                      batch_size=15000),\n",
    "                   axis=1)\n",
    "\n",
    "# get labels\n",
    "y_test = test_labels[:, 0]"
   ]
  },
  {
   "cell_type": "code",
   "execution_count": 39,
   "metadata": {},
   "outputs": [
    {
     "name": "stdout",
     "output_type": "stream",
     "text": [
      "Normalized confusion matrix\n",
      "[[0.88173203 0.09765211 0.02061586]\n",
      " [0.1303451  0.83997974 0.02967516]\n",
      " [0.27873486 0.23896011 0.48230502]]\n"
     ]
    },
    {
     "data": {
      "text/plain": [
       "<matplotlib.axes._subplots.AxesSubplot at 0x7f487d90af60>"
      ]
     },
     "execution_count": 39,
     "metadata": {},
     "output_type": "execute_result"
    },
    {
     "data": {
      "image/png": "[encoded data removed]",
      "text/plain": [
       "<Figure size 432x288 with 2 Axes>"
      ]
     },
     "metadata": {
      "needs_background": "light"
     },
     "output_type": "display_data"
    }
   ],
   "source": [
    "plot_confusion_matrix(y_test, \n",
    "                      y_pred, \n",
    "                      classes=np.array(['bug', 'feature', 'question']), \n",
    "                      normalize=True, \n",
    "                      title='Normalized Confusion Matrix')"
   ]
  },
  {
   "cell_type": "markdown",
   "metadata": {},
   "source": [
    "# Make Predictions"
   ]
  },
  {
   "cell_type": "code",
   "execution_count": 5,
   "metadata": {},
   "outputs": [],
   "source": [
    "from utils import IssueLabeler\n",
    "from tensorflow.keras.models import load_model\n",
    "import dill as dpickle"
   ]
  },
  {
   "cell_type": "code",
   "execution_count": 6,
   "metadata": {},
   "outputs": [
    {
     "name": "stderr",
     "output_type": "stream",
     "text": [
      "Using TensorFlow backend.\n"
     ]
    }
   ],
   "source": [
    "#load the best model\n",
    "best_model = load_model('Issue_Label_v1_best_model.hdf5')\n",
    "\n",
    "#load the pre-processors\n",
    "with open('title_pp.dpkl', 'rb') as f:\n",
    "    title_pp = dpickle.load(f)\n",
    "\n",
    "with open('body_pp.dpkl', 'rb') as f:\n",
    "    body_pp = dpickle.load(f)\n",
    "    \n",
    "# instantiate the IssueLabeler object\n",
    "issue_labeler = IssueLabeler(body_text_preprocessor=body_pp,\n",
    "                             title_text_preprocessor=title_pp,\n",
    "                             model=best_model)    "
   ]
  },
  {
   "cell_type": "code",
   "execution_count": 9,
   "metadata": {},
   "outputs": [
    {
     "data": {
      "text/plain": [
       "{'bug': 0.12618249654769897,\n",
       " 'feature': 0.1929263472557068,\n",
       " 'question': 0.6808911561965942}"
      ]
     },
     "execution_count": 9,
     "metadata": {},
     "output_type": "execute_result"
    }
   ],
   "source": [
    "issue_labeler.get_probabilities(body='Can someone please help me?', \n",
    "                                title='random stuff')"
   ]
  },
  {
   "cell_type": "code",
   "execution_count": 10,
   "metadata": {},
   "outputs": [
    {
     "data": {
      "text/plain": [
       "{'bug': 0.019261939451098442,\n",
       " 'feature': 0.9305700659751892,\n",
       " 'question': 0.05016808584332466}"
      ]
     },
     "execution_count": 10,
     "metadata": {},
     "output_type": "execute_result"
    }
   ],
   "source": [
    "issue_labeler.get_probabilities(body='It would be great to add a new button', \n",
    "                                title='requesting a button')"
   ]
  },
  {
   "cell_type": "code",
   "execution_count": 11,
   "metadata": {},
   "outputs": [
    {
     "data": {
      "text/plain": [
       "{'bug': 0.9065071940422058,\n",
       " 'feature': 0.03202613815665245,\n",
       " 'question': 0.06146678701043129}"
      ]
     },
     "execution_count": 11,
     "metadata": {},
     "output_type": "execute_result"
    }
   ],
   "source": [
    "issue_labeler.get_probabilities(body='It does` not work, I get bad errors', \n",
    "                                title='nothing works')"
   ]
  }
 ],
 "metadata": {
  "kernelspec": {
   "display_name": "Python 3",
   "language": "python",
   "name": "python3"
  },
  "language_info": {
   "codemirror_mode": {
    "name": "ipython",
    "version": 3
   },
   "file_extension": ".py",
   "mimetype": "text/x-python",
   "name": "python",
   "nbconvert_exporter": "python",
   "pygments_lexer": "ipython3",
   "version": "3.6.7"
  }
 },
 "nbformat": 4,
 "nbformat_minor": 2
}
