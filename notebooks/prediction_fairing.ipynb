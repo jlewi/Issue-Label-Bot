{
 "cells": [
  {
   "cell_type": "markdown",
   "metadata": {},
   "source": [
    "## Background\n",
    "\n",
    "The goal of the MLapp project is to provide the following:\n",
    "\n",
    "1. Illustrate how to build machine learning powered developer tools using the [GitHub Api](https://developer.github.com/v3/) and Flask.  We would like to show data scientists how to build exciting data products using machine learning on the GitHub marketplace, that developers can use.  Specifically, we will build an illustrative data product that will automatically label issues.  \n",
    "\n",
    "2. Gather feedback and iterate \n",
    "\n",
    "\n",
    "The scope of this notebook is to addresses part of goal #1, by illustrating how we can acquire a dataset of GitHub issue labels and train a classifier.  \n",
    "\n",
    "The top issues on GitHub by count are illustrated in [this spreadsheet](https://docs.google.com/spreadsheets/d/1NPacnVsyZMBneeewvPGhCx512A1RPYf8ktDN_RpKeS4/edit?usp=sharing).  To keep things simple, we will build a model to classify an issue as a `bug`, `feature` or `question`.  We use hueristics to collapse a set of issue labels into these three categories, which can be viewed [in this query](https://console.cloud.google.com/bigquery?sq=123474043329:01abf8866144486f932c756730ddaff1).  \n",
    "\n",
    "The heueristic for these class labels are contained within the below case statement:\n",
    "\n",
    "```{sql}\n",
    "  CASE when labels like '%bug%' and labels not like '%not bug%' then True else False end as Bug_Flag,\n",
    "  CASE when labels like '%feature%' or labels like '%enhancement%' or labels like '%improvement%' or labels like '%request%' then True else False end as Feature_Flag,\n",
    "  CASE when labels like '%question%' or labels like '%discussion%' then True else False end as Question_Flag,\n",
    "```\n",
    "    the above case statement is located within [this query](https://console.cloud.google.com/bigquery?sq=123474043329:01abf8866144486f932c756730ddaff1)\n",
    "    \n",
    "\n",
    "The following alternative projects were tried before this task that we did not pursue further:\n",
    " - Transfer learning using the [GitHub Issue Summarizer](https://github.com/hamelsmu/Seq2Seq_Tutorial) to enable the prediction of custom labels on existing repos.  Found that this did not work well as there is a considerable amount of noise with regards to custom labels in repositories and often not enough data to adequately predict this.  \n",
    " - Tried to classify more than the above three classes, however the human-labeled issues are very subjective and it is not clear what is a question vs. a bug.  \n",
    " - Tried multi-label classification since labels can co-occur.  There is very little overlap between `bug`, `feature` and `question` labels, so we decided to simplify things and make this a multi-class classificaiton problem instead.  \n",
    "\n",
    "\n",
    "Note: the code in this notebook was executed on a [p3.8xlarge](https://aws.amazon.com/ec2/instance-types/p3/) instance on AWS.\n",
    "\n",
    "## Outline \n",
    "\n",
    "This notebook will follow these steps:\n",
    "\n",
    "1. Download and partition dataset\n",
    "2. Pre-process dataset\n",
    "2. Build model architecture & Train Model\n",
    "3. Evaluate Model\n"
   ]
  },
  {
   "cell_type": "code",
   "execution_count": 26,
   "metadata": {},
   "outputs": [
    {
     "name": "stdout",
     "output_type": "stream",
     "text": [
      "Collecting fairing==0.5.2\n",
      "\u001b[?25l  Downloading https://files.pythonhosted.org/packages/38/82/5b6dfdc03172670b660f98bbb24eb3c083a3b6e3cbd0abb947f82bb16e1b/fairing-0.5.2-py3-none-any.whl (134kB)\n",
      "\u001b[K    100% |████████████████████████████████| 143kB 6.6MB/s ta 0:00:01\n",
      "\u001b[?25hRequirement already satisfied: google-api-python-client>=1.7.8 in /opt/conda/lib/python3.6/site-packages (from fairing==0.5.2) (1.7.8)\n",
      "Requirement already satisfied: google-auth>=1.6.2 in /opt/conda/lib/python3.6/site-packages (from fairing==0.5.2) (1.6.3)\n",
      "Requirement already satisfied: cloudpickle>=0.8 in /opt/conda/lib/python3.6/site-packages (from fairing==0.5.2) (0.8.1)\n",
      "Requirement already satisfied: notebook>=5.6.0 in /opt/conda/lib/python3.6/site-packages (from fairing==0.5.2) (5.7.8)\n",
      "Requirement already satisfied: six>=1.11.0 in /opt/conda/lib/python3.6/site-packages (from fairing==0.5.2) (1.12.0)\n",
      "Requirement already satisfied: setuptools>=34.0.0 in /opt/conda/lib/python3.6/site-packages (from fairing==0.5.2) (40.8.0)\n",
      "Requirement already satisfied: oauth2client>=4.0.0 in /opt/conda/lib/python3.6/site-packages (from fairing==0.5.2) (4.1.3)\n",
      "Collecting tornado<6.0.0,>=5.1.1 (from fairing==0.5.2)\n",
      "\u001b[?25l  Downloading https://files.pythonhosted.org/packages/e6/78/6e7b5af12c12bdf38ca9bfe863fcaf53dc10430a312d0324e76c1e5ca426/tornado-5.1.1.tar.gz (516kB)\n",
      "\u001b[K    100% |████████████████████████████████| 522kB 14.5MB/s ta 0:00:01\n",
      "\u001b[?25hRequirement already satisfied: google-cloud-storage>=1.13.2 in /opt/conda/lib/python3.6/site-packages (from fairing==0.5.2) (1.14.0)\n",
      "Requirement already satisfied: future>=0.17.1 in /opt/conda/lib/python3.6/site-packages (from fairing==0.5.2) (0.17.1)\n",
      "Requirement already satisfied: docker>=3.4.1 in /opt/conda/lib/python3.6/site-packages (from fairing==0.5.2) (3.7.2)\n",
      "Requirement already satisfied: requests>=2.21.0 in /opt/conda/lib/python3.6/site-packages (from fairing==0.5.2) (2.21.0)\n",
      "Requirement already satisfied: numpy>=1.14 in /opt/conda/lib/python3.6/site-packages (from fairing==0.5.2) (1.16.2)\n",
      "Requirement already satisfied: httplib2>=0.12.0 in /opt/conda/lib/python3.6/site-packages (from fairing==0.5.2) (0.12.1)\n",
      "Requirement already satisfied: kubernetes>=9.0.0 in /opt/conda/lib/python3.6/site-packages (from fairing==0.5.2) (9.0.0)\n",
      "Requirement already satisfied: uritemplate<4dev,>=3.0.0 in /opt/conda/lib/python3.6/site-packages (from google-api-python-client>=1.7.8->fairing==0.5.2) (3.0.0)\n",
      "Requirement already satisfied: google-auth-httplib2>=0.0.3 in /opt/conda/lib/python3.6/site-packages (from google-api-python-client>=1.7.8->fairing==0.5.2) (0.0.3)\n",
      "Requirement already satisfied: pyasn1-modules>=0.2.1 in /opt/conda/lib/python3.6/site-packages (from google-auth>=1.6.2->fairing==0.5.2) (0.2.4)\n",
      "Requirement already satisfied: rsa>=3.1.4 in /opt/conda/lib/python3.6/site-packages (from google-auth>=1.6.2->fairing==0.5.2) (4.0)\n",
      "Requirement already satisfied: cachetools>=2.0.0 in /opt/conda/lib/python3.6/site-packages (from google-auth>=1.6.2->fairing==0.5.2) (3.1.0)\n",
      "Requirement already satisfied: Send2Trash in /opt/conda/lib/python3.6/site-packages (from notebook>=5.6.0->fairing==0.5.2) (1.5.0)\n",
      "Requirement already satisfied: ipykernel in /opt/conda/lib/python3.6/site-packages (from notebook>=5.6.0->fairing==0.5.2) (5.1.0)\n",
      "Requirement already satisfied: ipython-genutils in /opt/conda/lib/python3.6/site-packages (from notebook>=5.6.0->fairing==0.5.2) (0.2.0)\n",
      "Requirement already satisfied: traitlets>=4.2.1 in /opt/conda/lib/python3.6/site-packages (from notebook>=5.6.0->fairing==0.5.2) (4.3.2)\n",
      "Requirement already satisfied: jupyter-core>=4.4.0 in /opt/conda/lib/python3.6/site-packages (from notebook>=5.6.0->fairing==0.5.2) (4.4.0)\n",
      "Requirement already satisfied: nbformat in /opt/conda/lib/python3.6/site-packages (from notebook>=5.6.0->fairing==0.5.2) (4.4.0)\n",
      "Requirement already satisfied: prometheus-client in /opt/conda/lib/python3.6/site-packages (from notebook>=5.6.0->fairing==0.5.2) (0.6.0)\n",
      "Requirement already satisfied: pyzmq>=17 in /opt/conda/lib/python3.6/site-packages (from notebook>=5.6.0->fairing==0.5.2) (18.0.1)\n",
      "Requirement already satisfied: terminado>=0.8.1 in /opt/conda/lib/python3.6/site-packages (from notebook>=5.6.0->fairing==0.5.2) (0.8.2)\n",
      "Requirement already satisfied: jupyter-client>=5.2.0 in /opt/conda/lib/python3.6/site-packages (from notebook>=5.6.0->fairing==0.5.2) (5.2.4)\n",
      "Requirement already satisfied: jinja2 in /opt/conda/lib/python3.6/site-packages (from notebook>=5.6.0->fairing==0.5.2) (2.10)\n",
      "Requirement already satisfied: nbconvert in /opt/conda/lib/python3.6/site-packages (from notebook>=5.6.0->fairing==0.5.2) (5.4.1)\n",
      "Requirement already satisfied: pyasn1>=0.1.7 in /opt/conda/lib/python3.6/site-packages (from oauth2client>=4.0.0->fairing==0.5.2) (0.4.5)\n",
      "Requirement already satisfied: google-resumable-media>=0.3.1 in /opt/conda/lib/python3.6/site-packages (from google-cloud-storage>=1.13.2->fairing==0.5.2) (0.3.2)\n",
      "Requirement already satisfied: google-cloud-core<0.30dev,>=0.29.0 in /opt/conda/lib/python3.6/site-packages (from google-cloud-storage>=1.13.2->fairing==0.5.2) (0.29.1)\n",
      "Requirement already satisfied: google-api-core<2.0.0dev,>=1.6.0 in /opt/conda/lib/python3.6/site-packages (from google-cloud-storage>=1.13.2->fairing==0.5.2) (1.8.2)\n",
      "Requirement already satisfied: docker-pycreds>=0.4.0 in /opt/conda/lib/python3.6/site-packages (from docker>=3.4.1->fairing==0.5.2) (0.4.0)\n",
      "Requirement already satisfied: websocket-client>=0.32.0 in /opt/conda/lib/python3.6/site-packages (from docker>=3.4.1->fairing==0.5.2) (0.56.0)\n",
      "Requirement already satisfied: urllib3<1.25,>=1.21.1 in /opt/conda/lib/python3.6/site-packages (from requests>=2.21.0->fairing==0.5.2) (1.24.1)\n",
      "Requirement already satisfied: idna<2.9,>=2.5 in /opt/conda/lib/python3.6/site-packages (from requests>=2.21.0->fairing==0.5.2) (2.8)\n",
      "Requirement already satisfied: chardet<3.1.0,>=3.0.2 in /opt/conda/lib/python3.6/site-packages (from requests>=2.21.0->fairing==0.5.2) (3.0.4)\n",
      "Requirement already satisfied: certifi>=2017.4.17 in /opt/conda/lib/python3.6/site-packages (from requests>=2.21.0->fairing==0.5.2) (2019.3.9)\n",
      "Requirement already satisfied: python-dateutil>=2.5.3 in /opt/conda/lib/python3.6/site-packages (from kubernetes>=9.0.0->fairing==0.5.2) (2.8.0)\n",
      "Requirement already satisfied: pyyaml>=3.12 in /opt/conda/lib/python3.6/site-packages (from kubernetes>=9.0.0->fairing==0.5.2) (5.1)\n",
      "Requirement already satisfied: requests-oauthlib in /opt/conda/lib/python3.6/site-packages (from kubernetes>=9.0.0->fairing==0.5.2) (1.2.0)\n",
      "Requirement already satisfied: ipython>=5.0.0 in /opt/conda/lib/python3.6/site-packages (from ipykernel->notebook>=5.6.0->fairing==0.5.2) (7.4.0)\n",
      "Requirement already satisfied: decorator in /opt/conda/lib/python3.6/site-packages (from traitlets>=4.2.1->notebook>=5.6.0->fairing==0.5.2) (4.4.0)\n",
      "Requirement already satisfied: jsonschema!=2.5.0,>=2.4 in /opt/conda/lib/python3.6/site-packages (from nbformat->notebook>=5.6.0->fairing==0.5.2) (3.0.1)\n",
      "Requirement already satisfied: ptyprocess; os_name != \"nt\" in /opt/conda/lib/python3.6/site-packages (from terminado>=0.8.1->notebook>=5.6.0->fairing==0.5.2) (0.6.0)\n",
      "Requirement already satisfied: MarkupSafe>=0.23 in /opt/conda/lib/python3.6/site-packages (from jinja2->notebook>=5.6.0->fairing==0.5.2) (1.1.1)\n",
      "Requirement already satisfied: mistune>=0.8.1 in /opt/conda/lib/python3.6/site-packages (from nbconvert->notebook>=5.6.0->fairing==0.5.2) (0.8.4)\n",
      "Requirement already satisfied: defusedxml in /opt/conda/lib/python3.6/site-packages (from nbconvert->notebook>=5.6.0->fairing==0.5.2) (0.5.0)\n",
      "Requirement already satisfied: pygments in /opt/conda/lib/python3.6/site-packages (from nbconvert->notebook>=5.6.0->fairing==0.5.2) (2.3.1)\n",
      "Requirement already satisfied: entrypoints>=0.2.2 in /opt/conda/lib/python3.6/site-packages (from nbconvert->notebook>=5.6.0->fairing==0.5.2) (0.3)\n",
      "Requirement already satisfied: testpath in /opt/conda/lib/python3.6/site-packages (from nbconvert->notebook>=5.6.0->fairing==0.5.2) (0.4.2)\n",
      "Requirement already satisfied: pandocfilters>=1.4.1 in /opt/conda/lib/python3.6/site-packages (from nbconvert->notebook>=5.6.0->fairing==0.5.2) (1.4.2)\n",
      "Requirement already satisfied: bleach in /opt/conda/lib/python3.6/site-packages (from nbconvert->notebook>=5.6.0->fairing==0.5.2) (3.1.0)\n",
      "Requirement already satisfied: googleapis-common-protos!=1.5.4,<2.0dev,>=1.5.3 in /opt/conda/lib/python3.6/site-packages (from google-api-core<2.0.0dev,>=1.6.0->google-cloud-storage>=1.13.2->fairing==0.5.2) (1.5.9)\n"
     ]
    },
    {
     "name": "stdout",
     "output_type": "stream",
     "text": [
      "Requirement already satisfied: protobuf>=3.4.0 in /opt/conda/lib/python3.6/site-packages (from google-api-core<2.0.0dev,>=1.6.0->google-cloud-storage>=1.13.2->fairing==0.5.2) (3.7.1)\n",
      "Requirement already satisfied: pytz in /opt/conda/lib/python3.6/site-packages (from google-api-core<2.0.0dev,>=1.6.0->google-cloud-storage>=1.13.2->fairing==0.5.2) (2018.9)\n",
      "Requirement already satisfied: oauthlib>=3.0.0 in /opt/conda/lib/python3.6/site-packages (from requests-oauthlib->kubernetes>=9.0.0->fairing==0.5.2) (3.0.1)\n",
      "Requirement already satisfied: pickleshare in /opt/conda/lib/python3.6/site-packages (from ipython>=5.0.0->ipykernel->notebook>=5.6.0->fairing==0.5.2) (0.7.5)\n",
      "Requirement already satisfied: jedi>=0.10 in /opt/conda/lib/python3.6/site-packages (from ipython>=5.0.0->ipykernel->notebook>=5.6.0->fairing==0.5.2) (0.13.3)\n",
      "Requirement already satisfied: prompt-toolkit<2.1.0,>=2.0.0 in /opt/conda/lib/python3.6/site-packages (from ipython>=5.0.0->ipykernel->notebook>=5.6.0->fairing==0.5.2) (2.0.9)\n",
      "Requirement already satisfied: pexpect; sys_platform != \"win32\" in /opt/conda/lib/python3.6/site-packages (from ipython>=5.0.0->ipykernel->notebook>=5.6.0->fairing==0.5.2) (4.6.0)\n",
      "Requirement already satisfied: backcall in /opt/conda/lib/python3.6/site-packages (from ipython>=5.0.0->ipykernel->notebook>=5.6.0->fairing==0.5.2) (0.1.0)\n",
      "Requirement already satisfied: pyrsistent>=0.14.0 in /opt/conda/lib/python3.6/site-packages (from jsonschema!=2.5.0,>=2.4->nbformat->notebook>=5.6.0->fairing==0.5.2) (0.14.11)\n",
      "Requirement already satisfied: attrs>=17.4.0 in /opt/conda/lib/python3.6/site-packages (from jsonschema!=2.5.0,>=2.4->nbformat->notebook>=5.6.0->fairing==0.5.2) (19.1.0)\n",
      "Requirement already satisfied: webencodings in /opt/conda/lib/python3.6/site-packages (from bleach->nbconvert->notebook>=5.6.0->fairing==0.5.2) (0.5.1)\n",
      "Requirement already satisfied: parso>=0.3.0 in /opt/conda/lib/python3.6/site-packages (from jedi>=0.10->ipython>=5.0.0->ipykernel->notebook>=5.6.0->fairing==0.5.2) (0.3.4)\n",
      "Requirement already satisfied: wcwidth in /opt/conda/lib/python3.6/site-packages (from prompt-toolkit<2.1.0,>=2.0.0->ipython>=5.0.0->ipykernel->notebook>=5.6.0->fairing==0.5.2) (0.1.7)\n",
      "Building wheels for collected packages: tornado\n",
      "  Building wheel for tornado (setup.py) ... \u001b[?25ldone\n",
      "\u001b[?25h  Stored in directory: /home/jovyan/.cache/pip/wheels/6d/e1/ce/f4ee2fa420cc6b940123c64992b81047816d0a9fad6b879325\n",
      "Successfully built tornado\n",
      "Installing collected packages: tornado, fairing\n",
      "  Found existing installation: tornado 6.0.2\n",
      "    Uninstalling tornado-6.0.2:\n",
      "      Successfully uninstalled tornado-6.0.2\n",
      "  Found existing installation: fairing 0.0.3\n",
      "    Uninstalling fairing-0.0.3:\n",
      "      Successfully uninstalled fairing-0.0.3\n",
      "Successfully installed fairing-0.5.2 tornado-5.1.1\n",
      "\u001b[33mYou are using pip version 19.0.1, however version 19.0.3 is available.\n",
      "You should consider upgrading via the 'pip install --upgrade pip' command.\u001b[0m\n"
     ]
    }
   ],
   "source": [
    "!pip3 install fairing==0.5.2"
   ]
  },
  {
   "cell_type": "code",
   "execution_count": 2,
   "metadata": {},
   "outputs": [
    {
     "ename": "AttributeError",
     "evalue": "module 'fairing' has no attribute '__version__'",
     "output_type": "error",
     "traceback": [
      "\u001b[0;31m---------------------------------------------------------------------------\u001b[0m",
      "\u001b[0;31mAttributeError\u001b[0m                            Traceback (most recent call last)",
      "\u001b[0;32m<ipython-input-2-69adf8e02a7e>\u001b[0m in \u001b[0;36m<module>\u001b[0;34m\u001b[0m\n\u001b[1;32m      1\u001b[0m \u001b[0;32mimport\u001b[0m \u001b[0mfairing\u001b[0m\u001b[0;34m\u001b[0m\u001b[0;34m\u001b[0m\u001b[0m\n\u001b[0;32m----> 2\u001b[0;31m \u001b[0mfairing\u001b[0m\u001b[0;34m.\u001b[0m\u001b[0m__version__\u001b[0m\u001b[0;34m\u001b[0m\u001b[0;34m\u001b[0m\u001b[0m\n\u001b[0m",
      "\u001b[0;31mAttributeError\u001b[0m: module 'fairing' has no attribute '__version__'"
     ]
    }
   ],
   "source": [
    "import fairing\n",
    "fairing.__version__"
   ]
  },
  {
   "cell_type": "code",
   "execution_count": 3,
   "metadata": {},
   "outputs": [],
   "source": [
    "class LabelPrediction(object):\n",
    "    \n",
    "    def __init__(self):\n",
    "#         self.train_input = \"ames_dataset/train.csv\"\n",
    "#         self.n_estimators = 50\n",
    "#         self.learning_rate = 0.1\n",
    "#         self.model_file = \"trained_ames_model.dat\"\n",
    "        self.model = None\n",
    "\n",
    "    def train(self):\n",
    "        pass\n",
    "#         (train_X, train_y), (test_X, test_y) = read_input(self.train_input)\n",
    "#         model = train_model(train_X,\n",
    "#                           train_y,\n",
    "#                           test_X,\n",
    "#                           test_y,\n",
    "#                           self.n_estimators,\n",
    "#                           self.learning_rate)\n",
    "\n",
    "#         eval_model(model, test_X, test_y)\n",
    "#         save_model(model, self.model_file)\n",
    "\n",
    "    def predict(self, X, feature_names):\n",
    "        \"\"\"Predict using the model for given ndarray.\"\"\"\n",
    "        if not self.model:\n",
    "            logging.info(\"Loading the model\")\n",
    "            # Copy model from GCS\n",
    "            #self.model = joblib.load(self.model_file)\n",
    "            #load the best model\n",
    "#             best_model = load_model('Issue_Label_v1_best_model.hdf5')\n",
    "\n",
    "#             #load the pre-processors\n",
    "#             with open('title_pp.dpkl', 'rb') as f:\n",
    "#                 title_pp = dpickle.load(f)\n",
    "\n",
    "#             with open('body_pp.dpkl', 'rb') as f:\n",
    "#                 body_pp = dpickle.load(f)\n",
    "\n",
    "#             # instantiate the IssueLabeler object\n",
    "#             issue_labeler = IssueLabeler(body_text_preprocessor=body_pp,\n",
    "#                                          title_text_preprocessor=title_pp,\n",
    "#                                          model=best_model)\n",
    "        # Do any preprocessing\n",
    "#         prediction = self.model.predict(data=X)\n",
    "#         # Do any postprocessing\n",
    "#         return [[prediction.item(0), prediction.item(0)]]\n",
    "        return x"
   ]
  },
  {
   "cell_type": "code",
   "execution_count": 4,
   "metadata": {},
   "outputs": [],
   "source": [
    "import logging\n",
    "logging.basicConfig(format='%(message)s')\n",
    "logging.getLogger().setLevel(logging.INFO)"
   ]
  },
  {
   "cell_type": "code",
   "execution_count": 14,
   "metadata": {},
   "outputs": [
    {
     "ename": "NameError",
     "evalue": "name 'base_image' is not defined",
     "output_type": "error",
     "traceback": [
      "\u001b[0;31m---------------------------------------------------------------------------\u001b[0m",
      "\u001b[0;31mNameError\u001b[0m                                 Traceback (most recent call last)",
      "\u001b[0;32m<ipython-input-14-c39e24064a97>\u001b[0m in \u001b[0;36m<module>\u001b[0;34m\u001b[0m\n\u001b[1;32m      5\u001b[0m \u001b[0mGCP_PROJECT\u001b[0m \u001b[0;34m=\u001b[0m \u001b[0mfairing\u001b[0m\u001b[0;34m.\u001b[0m\u001b[0mcloud\u001b[0m\u001b[0;34m.\u001b[0m\u001b[0mgcp\u001b[0m\u001b[0;34m.\u001b[0m\u001b[0mguess_project_name\u001b[0m\u001b[0;34m(\u001b[0m\u001b[0;34m)\u001b[0m\u001b[0;34m\u001b[0m\u001b[0;34m\u001b[0m\u001b[0m\n\u001b[1;32m      6\u001b[0m \u001b[0mDOCKER_REGISTRY\u001b[0m \u001b[0;34m=\u001b[0m \u001b[0;34m'gcr.io/{}/fairing-job'\u001b[0m\u001b[0;34m.\u001b[0m\u001b[0mformat\u001b[0m\u001b[0;34m(\u001b[0m\u001b[0mGCP_PROJECT\u001b[0m\u001b[0;34m)\u001b[0m\u001b[0;34m\u001b[0m\u001b[0;34m\u001b[0m\u001b[0m\n\u001b[0;32m----> 7\u001b[0;31m \u001b[0mfairing\u001b[0m\u001b[0;34m.\u001b[0m\u001b[0mconfig\u001b[0m\u001b[0;34m.\u001b[0m\u001b[0mset_builder\u001b[0m\u001b[0;34m(\u001b[0m\u001b[0;34m'docker'\u001b[0m\u001b[0;34m,\u001b[0m \u001b[0mregistry\u001b[0m\u001b[0;34m=\u001b[0m\u001b[0mDOCKER_REGISTRY\u001b[0m\u001b[0;34m,\u001b[0m \u001b[0mbase_image\u001b[0m\u001b[0;34m=\u001b[0m\u001b[0mbase_image\u001b[0m\u001b[0;34m)\u001b[0m\u001b[0;34m\u001b[0m\u001b[0;34m\u001b[0m\u001b[0m\n\u001b[0m",
      "\u001b[0;31mNameError\u001b[0m: name 'base_image' is not defined"
     ]
    }
   ],
   "source": [
    "import fairing\n",
    "\n",
    "# Setting up google container repositories (GCR) for storing output containers\n",
    "# You can use any docker container registry istead of GCR\n",
    "GCP_PROJECT = fairing.cloud.gcp.guess_project_name()\n",
    "DOCKER_REGISTRY = 'gcr.io/{}/fairing-job'.format(GCP_PROJECT)\n",
    "fairing.config.set_builder('docker', registry=DOCKER_REGISTRY, base_image=base_image)"
   ]
  },
  {
   "cell_type": "code",
   "execution_count": 5,
   "metadata": {},
   "outputs": [],
   "source": [
    "# Append should be the default so this may not be necessary\n",
    "fairing.config.set_builder(name='append')"
   ]
  },
  {
   "cell_type": "code",
   "execution_count": 7,
   "metadata": {},
   "outputs": [
    {
     "name": "stderr",
     "output_type": "stream",
     "text": [
      "Building image...\n",
      "/opt/conda/lib/python3.6/site-packages/fairing/__init__.py already exists in Fairing context, skipping...\n",
      "Loading Docker credentials for repository 'gcr.io/kubeflow-images-public/fairing:dev'\n",
      "Image successfully built in 0.24512354301987216s.\n",
      "Pushing image gcr.io/code-search-demo/fairing-job:96A5DE59...\n",
      "Loading Docker credentials for repository 'gcr.io/code-search-demo/fairing-job:96A5DE59'\n"
     ]
    },
    {
     "ename": "TokenRefreshException",
     "evalue": "Bad status during token exchange: 401\nb'{\"errors\":[{\"code\":\"UNAUTHORIZED\",\"message\":\"You don\\'t have the needed permissions to perform this operation, and you may have invalid credentials. To authenticate your request, follow the steps in: https://cloud.google.com/container-registry/docs/advanced-authentication\"}]}'",
     "output_type": "error",
     "traceback": [
      "\u001b[0;31m---------------------------------------------------------------------------\u001b[0m",
      "\u001b[0;31mTokenRefreshException\u001b[0m                     Traceback (most recent call last)",
      "\u001b[0;32m<ipython-input-7-82bbfda72d74>\u001b[0m in \u001b[0;36m<module>\u001b[0;34m\u001b[0m\n\u001b[1;32m      1\u001b[0m \u001b[0mfairing\u001b[0m\u001b[0;34m.\u001b[0m\u001b[0mconfig\u001b[0m\u001b[0;34m.\u001b[0m\u001b[0mset_deployer\u001b[0m\u001b[0;34m(\u001b[0m\u001b[0;34m'serving'\u001b[0m\u001b[0;34m,\u001b[0m \u001b[0mserving_class\u001b[0m\u001b[0;34m=\u001b[0m\u001b[0;34m\"LabelPrediction\"\u001b[0m\u001b[0;34m)\u001b[0m\u001b[0;34m\u001b[0m\u001b[0;34m\u001b[0m\u001b[0m\n\u001b[1;32m      2\u001b[0m \u001b[0mcreate_endpoint\u001b[0m \u001b[0;34m=\u001b[0m \u001b[0mfairing\u001b[0m\u001b[0;34m.\u001b[0m\u001b[0mconfig\u001b[0m\u001b[0;34m.\u001b[0m\u001b[0mfn\u001b[0m\u001b[0;34m(\u001b[0m\u001b[0mLabelPrediction\u001b[0m\u001b[0;34m)\u001b[0m\u001b[0;34m\u001b[0m\u001b[0;34m\u001b[0m\u001b[0m\n\u001b[0;32m----> 3\u001b[0;31m \u001b[0mcreate_endpoint\u001b[0m\u001b[0;34m(\u001b[0m\u001b[0;34m)\u001b[0m\u001b[0;34m\u001b[0m\u001b[0;34m\u001b[0m\u001b[0m\n\u001b[0m",
      "\u001b[0;32m/opt/conda/lib/python3.6/site-packages/fairing/config.py\u001b[0m in \u001b[0;36mret_fn\u001b[0;34m()\u001b[0m\n\u001b[1;32m    110\u001b[0m         \u001b[0;32mdef\u001b[0m \u001b[0mret_fn\u001b[0m\u001b[0;34m(\u001b[0m\u001b[0;34m)\u001b[0m\u001b[0;34m:\u001b[0m\u001b[0;34m\u001b[0m\u001b[0;34m\u001b[0m\u001b[0m\n\u001b[1;32m    111\u001b[0m             \u001b[0mself\u001b[0m\u001b[0;34m.\u001b[0m\u001b[0mset_preprocessor\u001b[0m\u001b[0;34m(\u001b[0m\u001b[0;34m'function'\u001b[0m\u001b[0;34m,\u001b[0m \u001b[0mfunction_obj\u001b[0m\u001b[0;34m=\u001b[0m\u001b[0mfn\u001b[0m\u001b[0;34m)\u001b[0m\u001b[0;34m\u001b[0m\u001b[0;34m\u001b[0m\u001b[0m\n\u001b[0;32m--> 112\u001b[0;31m             \u001b[0mself\u001b[0m\u001b[0;34m.\u001b[0m\u001b[0mrun\u001b[0m\u001b[0;34m(\u001b[0m\u001b[0;34m)\u001b[0m\u001b[0;34m\u001b[0m\u001b[0;34m\u001b[0m\u001b[0m\n\u001b[0m\u001b[1;32m    113\u001b[0m         \u001b[0;32mreturn\u001b[0m \u001b[0mret_fn\u001b[0m\u001b[0;34m\u001b[0m\u001b[0;34m\u001b[0m\u001b[0m\n\u001b[1;32m    114\u001b[0m \u001b[0;34m\u001b[0m\u001b[0m\n",
      "\u001b[0;32m/opt/conda/lib/python3.6/site-packages/fairing/config.py\u001b[0m in \u001b[0;36mrun\u001b[0;34m(self)\u001b[0m\n\u001b[1;32m    100\u001b[0m         \u001b[0mdeployer\u001b[0m \u001b[0;34m=\u001b[0m \u001b[0mself\u001b[0m\u001b[0;34m.\u001b[0m\u001b[0mget_deployer\u001b[0m\u001b[0;34m(\u001b[0m\u001b[0;34m)\u001b[0m\u001b[0;34m\u001b[0m\u001b[0;34m\u001b[0m\u001b[0m\n\u001b[1;32m    101\u001b[0m \u001b[0;34m\u001b[0m\u001b[0m\n\u001b[0;32m--> 102\u001b[0;31m         \u001b[0mbuilder\u001b[0m\u001b[0;34m.\u001b[0m\u001b[0mbuild\u001b[0m\u001b[0;34m(\u001b[0m\u001b[0;34m)\u001b[0m\u001b[0;34m\u001b[0m\u001b[0;34m\u001b[0m\u001b[0m\n\u001b[0m\u001b[1;32m    103\u001b[0m         \u001b[0mpod_spec\u001b[0m \u001b[0;34m=\u001b[0m \u001b[0mbuilder\u001b[0m\u001b[0;34m.\u001b[0m\u001b[0mgenerate_pod_spec\u001b[0m\u001b[0;34m(\u001b[0m\u001b[0;34m)\u001b[0m\u001b[0;34m\u001b[0m\u001b[0;34m\u001b[0m\u001b[0m\n\u001b[1;32m    104\u001b[0m         \u001b[0mdeployer\u001b[0m\u001b[0;34m.\u001b[0m\u001b[0mdeploy\u001b[0m\u001b[0;34m(\u001b[0m\u001b[0mpod_spec\u001b[0m\u001b[0;34m)\u001b[0m\u001b[0;34m\u001b[0m\u001b[0;34m\u001b[0m\u001b[0m\n",
      "\u001b[0;32m/opt/conda/lib/python3.6/site-packages/fairing/builders/append/append.py\u001b[0m in \u001b[0;36mbuild\u001b[0;34m(self)\u001b[0m\n\u001b[1;32m     63\u001b[0m             self.full_image_name(self.context_hash), strict=False)\n\u001b[1;32m     64\u001b[0m         \u001b[0;32mif\u001b[0m \u001b[0mself\u001b[0m\u001b[0;34m.\u001b[0m\u001b[0mpush\u001b[0m\u001b[0;34m:\u001b[0m\u001b[0;34m\u001b[0m\u001b[0;34m\u001b[0m\u001b[0m\n\u001b[0;32m---> 65\u001b[0;31m             \u001b[0mself\u001b[0m\u001b[0;34m.\u001b[0m\u001b[0mtimed_push\u001b[0m\u001b[0;34m(\u001b[0m\u001b[0mtransport\u001b[0m\u001b[0;34m,\u001b[0m \u001b[0msrc\u001b[0m\u001b[0;34m,\u001b[0m \u001b[0mnew_img\u001b[0m\u001b[0;34m,\u001b[0m \u001b[0mdst\u001b[0m\u001b[0;34m)\u001b[0m\u001b[0;34m\u001b[0m\u001b[0;34m\u001b[0m\u001b[0m\n\u001b[0m\u001b[1;32m     66\u001b[0m         \u001b[0;32melse\u001b[0m\u001b[0;34m:\u001b[0m\u001b[0;34m\u001b[0m\u001b[0;34m\u001b[0m\u001b[0m\n\u001b[1;32m     67\u001b[0m             \u001b[0;31m# TODO(r2d4):\u001b[0m\u001b[0;34m\u001b[0m\u001b[0;34m\u001b[0m\u001b[0;34m\u001b[0m\u001b[0m\n",
      "\u001b[0;32m/opt/conda/lib/python3.6/site-packages/fairing/builders/append/append.py\u001b[0m in \u001b[0;36mtimed_push\u001b[0;34m(self, transport, src, img, dst)\u001b[0m\n\u001b[1;32m     95\u001b[0m         \u001b[0mlogger\u001b[0m\u001b[0;34m.\u001b[0m\u001b[0mwarn\u001b[0m\u001b[0;34m(\u001b[0m\u001b[0;34m\"Pushing image {}...\"\u001b[0m\u001b[0;34m.\u001b[0m\u001b[0mformat\u001b[0m\u001b[0;34m(\u001b[0m\u001b[0mself\u001b[0m\u001b[0;34m.\u001b[0m\u001b[0mimage_tag\u001b[0m\u001b[0;34m)\u001b[0m\u001b[0;34m)\u001b[0m\u001b[0;34m\u001b[0m\u001b[0;34m\u001b[0m\u001b[0m\n\u001b[1;32m     96\u001b[0m         \u001b[0mstart\u001b[0m \u001b[0;34m=\u001b[0m \u001b[0mtimer\u001b[0m\u001b[0;34m(\u001b[0m\u001b[0;34m)\u001b[0m\u001b[0;34m\u001b[0m\u001b[0;34m\u001b[0m\u001b[0m\n\u001b[0;32m---> 97\u001b[0;31m         \u001b[0mself\u001b[0m\u001b[0;34m.\u001b[0m\u001b[0m_push\u001b[0m\u001b[0;34m(\u001b[0m\u001b[0mtransport\u001b[0m\u001b[0;34m,\u001b[0m \u001b[0msrc\u001b[0m\u001b[0;34m,\u001b[0m \u001b[0mimg\u001b[0m\u001b[0;34m,\u001b[0m \u001b[0mdst\u001b[0m\u001b[0;34m)\u001b[0m\u001b[0;34m\u001b[0m\u001b[0;34m\u001b[0m\u001b[0m\n\u001b[0m\u001b[1;32m     98\u001b[0m         \u001b[0mend\u001b[0m \u001b[0;34m=\u001b[0m \u001b[0mtimer\u001b[0m\u001b[0;34m(\u001b[0m\u001b[0;34m)\u001b[0m\u001b[0;34m\u001b[0m\u001b[0;34m\u001b[0m\u001b[0m\n\u001b[1;32m     99\u001b[0m         logger.warn(\n",
      "\u001b[0;32m/opt/conda/lib/python3.6/site-packages/fairing/builders/append/append.py\u001b[0m in \u001b[0;36m_push\u001b[0;34m(self, transport, src, img, dst)\u001b[0m\n\u001b[1;32m     87\u001b[0m         \u001b[0mcreds\u001b[0m \u001b[0;34m=\u001b[0m \u001b[0mdocker_creds\u001b[0m\u001b[0;34m.\u001b[0m\u001b[0mDefaultKeychain\u001b[0m\u001b[0;34m.\u001b[0m\u001b[0mResolve\u001b[0m\u001b[0;34m(\u001b[0m\u001b[0mdst\u001b[0m\u001b[0;34m)\u001b[0m\u001b[0;34m\u001b[0m\u001b[0;34m\u001b[0m\u001b[0m\n\u001b[1;32m     88\u001b[0m         with docker_session.Push(\n\u001b[0;32m---> 89\u001b[0;31m              dst, creds, transport, mount=[src.as_repository()]) as session:\n\u001b[0m\u001b[1;32m     90\u001b[0m             \u001b[0mlogger\u001b[0m\u001b[0;34m.\u001b[0m\u001b[0mwarn\u001b[0m\u001b[0;34m(\u001b[0m\u001b[0;34m\"Uploading {}\"\u001b[0m\u001b[0;34m.\u001b[0m\u001b[0mformat\u001b[0m\u001b[0;34m(\u001b[0m\u001b[0mself\u001b[0m\u001b[0;34m.\u001b[0m\u001b[0mimage_tag\u001b[0m\u001b[0;34m)\u001b[0m\u001b[0;34m)\u001b[0m\u001b[0;34m\u001b[0m\u001b[0;34m\u001b[0m\u001b[0m\n\u001b[1;32m     91\u001b[0m             \u001b[0msession\u001b[0m\u001b[0;34m.\u001b[0m\u001b[0mupload\u001b[0m\u001b[0;34m(\u001b[0m\u001b[0mimg\u001b[0m\u001b[0;34m)\u001b[0m\u001b[0;34m\u001b[0m\u001b[0;34m\u001b[0m\u001b[0m\n",
      "\u001b[0;32m/opt/conda/lib/python3.6/site-packages/containerregistry/client/v2_2/docker_session_.py\u001b[0m in \u001b[0;36m__init__\u001b[0;34m(self, name, creds, transport, mount, threads)\u001b[0m\n\u001b[1;32m     68\u001b[0m     \u001b[0mself\u001b[0m\u001b[0;34m.\u001b[0m\u001b[0m_name\u001b[0m \u001b[0;34m=\u001b[0m \u001b[0mname\u001b[0m\u001b[0;34m\u001b[0m\u001b[0;34m\u001b[0m\u001b[0m\n\u001b[1;32m     69\u001b[0m     self._transport = docker_http.Transport(name, creds, transport,\n\u001b[0;32m---> 70\u001b[0;31m                                             docker_http.PUSH)\n\u001b[0m\u001b[1;32m     71\u001b[0m     \u001b[0mself\u001b[0m\u001b[0;34m.\u001b[0m\u001b[0m_mount\u001b[0m \u001b[0;34m=\u001b[0m \u001b[0mmount\u001b[0m\u001b[0;34m\u001b[0m\u001b[0;34m\u001b[0m\u001b[0m\n\u001b[1;32m     72\u001b[0m     \u001b[0mself\u001b[0m\u001b[0;34m.\u001b[0m\u001b[0m_threads\u001b[0m \u001b[0;34m=\u001b[0m \u001b[0mthreads\u001b[0m\u001b[0;34m\u001b[0m\u001b[0;34m\u001b[0m\u001b[0m\n",
      "\u001b[0;32m/opt/conda/lib/python3.6/site-packages/containerregistry/client/v2_2/docker_http_.py\u001b[0m in \u001b[0;36m__init__\u001b[0;34m(self, name, creds, transport, action)\u001b[0m\n\u001b[1;32m    206\u001b[0m     \u001b[0mself\u001b[0m\u001b[0;34m.\u001b[0m\u001b[0m_Ping\u001b[0m\u001b[0;34m(\u001b[0m\u001b[0;34m)\u001b[0m\u001b[0;34m\u001b[0m\u001b[0;34m\u001b[0m\u001b[0m\n\u001b[1;32m    207\u001b[0m     \u001b[0;32mif\u001b[0m \u001b[0mself\u001b[0m\u001b[0;34m.\u001b[0m\u001b[0m_authentication\u001b[0m \u001b[0;34m==\u001b[0m \u001b[0m_BEARER\u001b[0m\u001b[0;34m:\u001b[0m\u001b[0;34m\u001b[0m\u001b[0;34m\u001b[0m\u001b[0m\n\u001b[0;32m--> 208\u001b[0;31m       \u001b[0mself\u001b[0m\u001b[0;34m.\u001b[0m\u001b[0m_Refresh\u001b[0m\u001b[0;34m(\u001b[0m\u001b[0;34m)\u001b[0m\u001b[0;34m\u001b[0m\u001b[0;34m\u001b[0m\u001b[0m\n\u001b[0m\u001b[1;32m    209\u001b[0m     \u001b[0;32melif\u001b[0m \u001b[0mself\u001b[0m\u001b[0;34m.\u001b[0m\u001b[0m_authentication\u001b[0m \u001b[0;34m==\u001b[0m \u001b[0m_BASIC\u001b[0m\u001b[0;34m:\u001b[0m\u001b[0;34m\u001b[0m\u001b[0;34m\u001b[0m\u001b[0m\n\u001b[1;32m    210\u001b[0m       \u001b[0mself\u001b[0m\u001b[0;34m.\u001b[0m\u001b[0m_creds\u001b[0m \u001b[0;34m=\u001b[0m \u001b[0mself\u001b[0m\u001b[0;34m.\u001b[0m\u001b[0m_basic_creds\u001b[0m\u001b[0;34m\u001b[0m\u001b[0;34m\u001b[0m\u001b[0m\n",
      "\u001b[0;32m/opt/conda/lib/python3.6/site-packages/containerregistry/client/v2_2/docker_http_.py\u001b[0m in \u001b[0;36m_Refresh\u001b[0;34m(self)\u001b[0m\n\u001b[1;32m    313\u001b[0m     \u001b[0;32mif\u001b[0m \u001b[0mresp\u001b[0m\u001b[0;34m.\u001b[0m\u001b[0mstatus\u001b[0m \u001b[0;34m!=\u001b[0m \u001b[0msix\u001b[0m\u001b[0;34m.\u001b[0m\u001b[0mmoves\u001b[0m\u001b[0;34m.\u001b[0m\u001b[0mhttp_client\u001b[0m\u001b[0;34m.\u001b[0m\u001b[0mOK\u001b[0m\u001b[0;34m:\u001b[0m\u001b[0;34m\u001b[0m\u001b[0;34m\u001b[0m\u001b[0m\n\u001b[1;32m    314\u001b[0m       raise TokenRefreshException('Bad status during token exchange: %d\\n%s' %\n\u001b[0;32m--> 315\u001b[0;31m                                   (resp.status, content))\n\u001b[0m\u001b[1;32m    316\u001b[0m \u001b[0;34m\u001b[0m\u001b[0m\n\u001b[1;32m    317\u001b[0m     \u001b[0;32mtry\u001b[0m\u001b[0;34m:\u001b[0m\u001b[0;34m\u001b[0m\u001b[0;34m\u001b[0m\u001b[0m\n",
      "\u001b[0;31mTokenRefreshException\u001b[0m: Bad status during token exchange: 401\nb'{\"errors\":[{\"code\":\"UNAUTHORIZED\",\"message\":\"You don\\'t have the needed permissions to perform this operation, and you may have invalid credentials. To authenticate your request, follow the steps in: https://cloud.google.com/container-registry/docs/advanced-authentication\"}]}'"
     ]
    }
   ],
   "source": [
    "fairing.config.set_deployer('serving', serving_class=\"LabelPrediction\")\n",
    "create_endpoint = fairing.config.fn(LabelPrediction)\n",
    "create_endpoint()\n"
   ]
  },
  {
   "cell_type": "code",
   "execution_count": 8,
   "metadata": {},
   "outputs": [
    {
     "name": "stdout",
     "output_type": "stream",
     "text": [
      "AMBASSADOR_ADMIN_PORT_8877_TCP_ADDR=10.55.252.244\r\n",
      "AMBASSADOR_ADMIN_PORT_8877_TCP_PORT=8877\r\n",
      "AMBASSADOR_ADMIN_PORT_8877_TCP_PROTO=tcp\r\n",
      "AMBASSADOR_ADMIN_PORT_8877_TCP=tcp://10.55.252.244:8877\r\n",
      "AMBASSADOR_ADMIN_PORT=tcp://10.55.252.244:8877\r\n",
      "AMBASSADOR_ADMIN_SERVICE_HOST=10.55.252.244\r\n",
      "AMBASSADOR_ADMIN_SERVICE_PORT=8877\r\n",
      "AMBASSADOR_ADMIN_SERVICE_PORT_AMBASSADOR_ADMIN=8877\r\n",
      "AMBASSADOR_PORT_80_TCP_ADDR=10.55.248.195\r\n",
      "AMBASSADOR_PORT_80_TCP_PORT=80\r\n",
      "AMBASSADOR_PORT_80_TCP_PROTO=tcp\r\n",
      "AMBASSADOR_PORT_80_TCP=tcp://10.55.248.195:80\r\n",
      "AMBASSADOR_PORT=tcp://10.55.248.195:80\r\n",
      "AMBASSADOR_SERVICE_HOST=10.55.248.195\r\n",
      "AMBASSADOR_SERVICE_PORT=80\r\n",
      "AMBASSADOR_SERVICE_PORT_AMBASSADOR=80\r\n",
      "ARGO_UI_PORT_80_TCP_ADDR=10.55.254.101\r\n",
      "ARGO_UI_PORT_80_TCP_PORT=80\r\n",
      "ARGO_UI_PORT_80_TCP_PROTO=tcp\r\n",
      "ARGO_UI_PORT_80_TCP=tcp://10.55.254.101:80\r\n",
      "ARGO_UI_PORT=tcp://10.55.254.101:80\r\n",
      "ARGO_UI_SERVICE_HOST=10.55.254.101\r\n",
      "ARGO_UI_SERVICE_PORT=80\r\n",
      "CENTRALDASHBOARD_PORT_80_TCP_ADDR=10.55.248.102\r\n",
      "CENTRALDASHBOARD_PORT_80_TCP_PORT=80\r\n",
      "CENTRALDASHBOARD_PORT_80_TCP_PROTO=tcp\r\n",
      "CENTRALDASHBOARD_PORT_80_TCP=tcp://10.55.248.102:80\r\n",
      "CENTRALDASHBOARD_PORT=tcp://10.55.248.102:80\r\n",
      "CENTRALDASHBOARD_SERVICE_HOST=10.55.248.102\r\n",
      "CENTRALDASHBOARD_SERVICE_PORT=80\r\n",
      "CLICOLOR=1\r\n",
      "CLOUD_ENDPOINTS_CONTROLLER_PORT_80_TCP_ADDR=10.55.243.96\r\n",
      "CLOUD_ENDPOINTS_CONTROLLER_PORT_80_TCP_PORT=80\r\n",
      "CLOUD_ENDPOINTS_CONTROLLER_PORT_80_TCP_PROTO=tcp\r\n",
      "CLOUD_ENDPOINTS_CONTROLLER_PORT_80_TCP=tcp://10.55.243.96:80\r\n",
      "CLOUD_ENDPOINTS_CONTROLLER_PORT=tcp://10.55.243.96:80\r\n",
      "CLOUD_ENDPOINTS_CONTROLLER_SERVICE_HOST=10.55.243.96\r\n",
      "CLOUD_ENDPOINTS_CONTROLLER_SERVICE_PORT=80\r\n",
      "CLOUD_ENDPOINTS_CONTROLLER_SERVICE_PORT_HTTP=80\r\n",
      "CONDA_DIR=/opt/conda\r\n",
      "DEBIAN_FRONTEND=noninteractive\r\n",
      "DOCKER_CREDENTIAL_GCR_VERSION=1.4.3\r\n",
      "ENVOY_PORT_8080_TCP_ADDR=10.55.255.153\r\n",
      "ENVOY_PORT_8080_TCP_PORT=8080\r\n",
      "ENVOY_PORT_8080_TCP_PROTO=tcp\r\n",
      "ENVOY_PORT_8080_TCP=tcp://10.55.255.153:8080\r\n",
      "ENVOY_PORT=tcp://10.55.255.153:8080\r\n",
      "ENVOY_SERVICE_HOST=10.55.255.153\r\n",
      "ENVOY_SERVICE_PORT=8080\r\n",
      "ENVOY_SERVICE_PORT_ENVOY=8080\r\n",
      "GCP_CRED_WEBHOOK_PORT_443_TCP_ADDR=10.55.243.50\r\n",
      "GCP_CRED_WEBHOOK_PORT_443_TCP_PORT=443\r\n",
      "GCP_CRED_WEBHOOK_PORT_443_TCP_PROTO=tcp\r\n",
      "GCP_CRED_WEBHOOK_PORT_443_TCP=tcp://10.55.243.50:443\r\n",
      "GCP_CRED_WEBHOOK_PORT=tcp://10.55.243.50:443\r\n",
      "GCP_CRED_WEBHOOK_SERVICE_HOST=10.55.243.50\r\n",
      "GCP_CRED_WEBHOOK_SERVICE_PORT=443\r\n",
      "GIT_PAGER=cat\r\n",
      "HOME=/home/jovyan\r\n",
      "HOSTNAME=jlewi-0\r\n",
      "JLEWI_PORT_80_TCP_ADDR=10.55.250.145\r\n",
      "JLEWI_PORT_80_TCP_PORT=80\r\n",
      "JLEWI_PORT_80_TCP_PROTO=tcp\r\n",
      "JLEWI_PORT_80_TCP=tcp://10.55.250.145:80\r\n",
      "JLEWI_PORT=tcp://10.55.250.145:80\r\n",
      "JLEWI_SERVICE_HOST=10.55.250.145\r\n",
      "JLEWI_SERVICE_PORT=80\r\n",
      "JPY_PARENT_PID=10\r\n",
      "JUPYTER_WEB_APP_PORT_80_TCP_ADDR=10.55.255.213\r\n",
      "JUPYTER_WEB_APP_PORT_80_TCP_PORT=80\r\n",
      "JUPYTER_WEB_APP_PORT_80_TCP_PROTO=tcp\r\n",
      "JUPYTER_WEB_APP_PORT_80_TCP=tcp://10.55.255.213:80\r\n",
      "JUPYTER_WEB_APP_PORT=tcp://10.55.255.213:80\r\n",
      "JUPYTER_WEB_APP_SERVICE_HOST=10.55.255.213\r\n",
      "JUPYTER_WEB_APP_SERVICE_PORT=80\r\n",
      "JUPYTER_WEB_APP_SERVICE_PORT_HTTP=80\r\n",
      "KATIB_UI_PORT_80_TCP_ADDR=10.55.249.101\r\n",
      "KATIB_UI_PORT_80_TCP_PORT=80\r\n",
      "KATIB_UI_PORT_80_TCP_PROTO=tcp\r\n",
      "KATIB_UI_PORT_80_TCP=tcp://10.55.249.101:80\r\n",
      "KATIB_UI_PORT=tcp://10.55.249.101:80\r\n",
      "KATIB_UI_SERVICE_HOST=10.55.249.101\r\n",
      "KATIB_UI_SERVICE_PORT=80\r\n",
      "KATIB_UI_SERVICE_PORT_UI=80\r\n",
      "KUBERNETES_PORT_443_TCP_ADDR=10.55.240.1\r\n",
      "KUBERNETES_PORT_443_TCP_PORT=443\r\n",
      "KUBERNETES_PORT_443_TCP_PROTO=tcp\r\n",
      "KUBERNETES_PORT_443_TCP=tcp://10.55.240.1:443\r\n",
      "KUBERNETES_PORT=tcp://10.55.240.1:443\r\n",
      "KUBERNETES_SERVICE_HOST=10.55.240.1\r\n",
      "KUBERNETES_SERVICE_PORT=443\r\n",
      "KUBERNETES_SERVICE_PORT_HTTPS=443\r\n",
      "LANG=en_US.UTF-8\r\n",
      "LANGUAGE=en_US.UTF-8\r\n",
      "LC_ALL=en_US.UTF-8\r\n",
      "MINICONDA_VERSION=4.5.4\r\n",
      "MINIO_SERVICE_PORT_9000_TCP_ADDR=10.55.244.159\r\n",
      "MINIO_SERVICE_PORT_9000_TCP_PORT=9000\r\n",
      "MINIO_SERVICE_PORT_9000_TCP_PROTO=tcp\r\n",
      "MINIO_SERVICE_PORT_9000_TCP=tcp://10.55.244.159:9000\r\n",
      "MINIO_SERVICE_PORT=tcp://10.55.244.159:9000\r\n",
      "MINIO_SERVICE_SERVICE_HOST=10.55.244.159\r\n",
      "MINIO_SERVICE_SERVICE_PORT=9000\r\n",
      "ML_PIPELINE_PORT_8887_TCP_ADDR=10.55.253.186\r\n",
      "ML_PIPELINE_PORT_8887_TCP_PORT=8887\r\n",
      "ML_PIPELINE_PORT_8887_TCP_PROTO=tcp\r\n",
      "ML_PIPELINE_PORT_8887_TCP=tcp://10.55.253.186:8887\r\n",
      "ML_PIPELINE_PORT_8888_TCP_ADDR=10.55.253.186\r\n",
      "ML_PIPELINE_PORT_8888_TCP_PORT=8888\r\n",
      "ML_PIPELINE_PORT_8888_TCP_PROTO=tcp\r\n",
      "ML_PIPELINE_PORT_8888_TCP=tcp://10.55.253.186:8888\r\n",
      "ML_PIPELINE_PORT=tcp://10.55.253.186:8888\r\n",
      "ML_PIPELINE_SERVICE_HOST=10.55.253.186\r\n",
      "ML_PIPELINE_SERVICE_PORT=8888\r\n",
      "ML_PIPELINE_SERVICE_PORT_GRPC=8887\r\n",
      "ML_PIPELINE_SERVICE_PORT_HTTP=8888\r\n",
      "ML_PIPELINE_TENSORBOARD_UI_PORT_80_TCP_ADDR=10.55.241.175\r\n",
      "ML_PIPELINE_TENSORBOARD_UI_PORT_80_TCP_PORT=80\r\n",
      "ML_PIPELINE_TENSORBOARD_UI_PORT_80_TCP_PROTO=tcp\r\n",
      "ML_PIPELINE_TENSORBOARD_UI_PORT_80_TCP=tcp://10.55.241.175:80\r\n",
      "ML_PIPELINE_TENSORBOARD_UI_PORT=tcp://10.55.241.175:80\r\n",
      "ML_PIPELINE_TENSORBOARD_UI_SERVICE_HOST=10.55.241.175\r\n",
      "ML_PIPELINE_TENSORBOARD_UI_SERVICE_PORT=80\r\n",
      "ML_PIPELINE_UI_PORT_80_TCP_ADDR=10.55.243.150\r\n",
      "ML_PIPELINE_UI_PORT_80_TCP_PORT=80\r\n",
      "ML_PIPELINE_UI_PORT_80_TCP_PROTO=tcp\r\n",
      "ML_PIPELINE_UI_PORT_80_TCP=tcp://10.55.243.150:80\r\n",
      "ML_PIPELINE_UI_PORT=tcp://10.55.243.150:80\r\n",
      "ML_PIPELINE_UI_SERVICE_HOST=10.55.243.150\r\n",
      "ML_PIPELINE_UI_SERVICE_PORT=80\r\n",
      "MPLBACKEND=module://ipykernel.pylab.backend_inline\r\n",
      "MYSQL_PORT_3306_TCP_ADDR=10.55.242.87\r\n",
      "MYSQL_PORT_3306_TCP_PORT=3306\r\n",
      "MYSQL_PORT_3306_TCP_PROTO=tcp\r\n",
      "MYSQL_PORT_3306_TCP=tcp://10.55.242.87:3306\r\n",
      "MYSQL_PORT=tcp://10.55.242.87:3306\r\n",
      "MYSQL_SERVICE_HOST=10.55.242.87\r\n",
      "MYSQL_SERVICE_PORT=3306\r\n",
      "NB_PREFIX=/notebook/kubeflow/jlewi\r\n",
      "NB_UID=1000\r\n",
      "NB_USER=jovyan\r\n",
      "NOTEBOOKS_CONTROLLER_PORT_443_TCP_ADDR=10.55.251.18\r\n",
      "NOTEBOOKS_CONTROLLER_PORT_443_TCP_PORT=443\r\n",
      "NOTEBOOKS_CONTROLLER_PORT_443_TCP_PROTO=tcp\r\n",
      "NOTEBOOKS_CONTROLLER_PORT_443_TCP=tcp://10.55.251.18:443\r\n",
      "NOTEBOOKS_CONTROLLER_PORT=tcp://10.55.251.18:443\r\n",
      "NOTEBOOKS_CONTROLLER_SERVICE_HOST=10.55.251.18\r\n",
      "NOTEBOOKS_CONTROLLER_SERVICE_PORT=443\r\n",
      "PAGER=cat\r\n",
      "PATH=/opt/conda/bin:/opt/conda/bin:/usr/local/sbin:/usr/local/bin:/usr/sbin:/usr/bin:/sbin:/bin\r\n",
      "PIPELINE_SDK_PACKAGE=https://storage.googleapis.com/ml-pipeline/release/0.1.8/kfp.tar.gz\r\n",
      "PWD=/home/jovyan/git_mlapp/notebooks\r\n",
      "STUDYJOB_CONTROLLER_PORT_443_TCP_ADDR=10.55.243.3\r\n",
      "STUDYJOB_CONTROLLER_PORT_443_TCP_PORT=443\r\n",
      "STUDYJOB_CONTROLLER_PORT_443_TCP_PROTO=tcp\r\n",
      "STUDYJOB_CONTROLLER_PORT_443_TCP=tcp://10.55.243.3:443\r\n",
      "STUDYJOB_CONTROLLER_PORT=tcp://10.55.243.3:443\r\n",
      "STUDYJOB_CONTROLLER_SERVICE_HOST=10.55.243.3\r\n",
      "STUDYJOB_CONTROLLER_SERVICE_PORT=443\r\n",
      "TENSORBOARD_PORT_9000_TCP_ADDR=10.55.253.229\r\n",
      "TENSORBOARD_PORT_9000_TCP_PORT=9000\r\n",
      "TENSORBOARD_PORT_9000_TCP_PROTO=tcp\r\n",
      "TENSORBOARD_PORT_9000_TCP=tcp://10.55.253.229:9000\r\n",
      "TENSORBOARD_PORT=tcp://10.55.253.229:9000\r\n",
      "TENSORBOARD_SERVICE_HOST=10.55.253.229\r\n",
      "TENSORBOARD_SERVICE_PORT=9000\r\n",
      "TENSORBOARD_SERVICE_PORT_TB=9000\r\n",
      "TERM=xterm-color\r\n",
      "TFDV_VERSION=0.13.1\r\n",
      "TF_JOB_DASHBOARD_PORT_80_TCP_ADDR=10.55.253.214\r\n",
      "TF_JOB_DASHBOARD_PORT_80_TCP_PORT=80\r\n",
      "TF_JOB_DASHBOARD_PORT_80_TCP_PROTO=tcp\r\n",
      "TF_JOB_DASHBOARD_PORT_80_TCP=tcp://10.55.253.214:80\r\n",
      "TF_JOB_DASHBOARD_PORT=tcp://10.55.253.214:80\r\n",
      "TF_JOB_DASHBOARD_SERVICE_HOST=10.55.253.214\r\n",
      "TF_JOB_DASHBOARD_SERVICE_PORT=80\r\n",
      "TFMA_VERSION=0.13.0\r\n",
      "TF_PACKAGE_27=https://files.pythonhosted.org/packages/d2/ea/ab2c8c0e81bd051cc1180b104c75a865ab0fc66c89be992c4b20bbf6d624/tensorflow-1.13.1-cp27-cp27mu-manylinux1_x86_64.whl\r\n",
      "TF_PACKAGE=https://files.pythonhosted.org/packages/77/63/a9fa76de8dffe7455304c4ed635be4aa9c0bacef6e0633d87d5f54530c5c/tensorflow-1.13.1-cp36-cp36m-manylinux1_x86_64.whl\r\n",
      "TF_SERVING_VERSION=https://files.pythonhosted.org/packages/d2/ea/ab2c8c0e81bd051cc1180b104c75a865ab0fc66c89be992c4b20bbf6d624/tensorflow-1.13.1-cp27-cp27mu-manylinux1_x86_64.whl\r\n",
      "VIZIER_CORE_PORT_6789_TCP_ADDR=10.55.242.185\r\n",
      "VIZIER_CORE_PORT_6789_TCP_PORT=6789\r\n",
      "VIZIER_CORE_PORT_6789_TCP_PROTO=tcp\r\n",
      "VIZIER_CORE_PORT_6789_TCP=tcp://10.55.242.185:6789\r\n",
      "VIZIER_CORE_PORT=tcp://10.55.242.185:6789\r\n",
      "VIZIER_CORE_REST_PORT_80_TCP_ADDR=10.55.255.5\r\n",
      "VIZIER_CORE_REST_PORT_80_TCP_PORT=80\r\n",
      "VIZIER_CORE_REST_PORT_80_TCP_PROTO=tcp\r\n",
      "VIZIER_CORE_REST_PORT_80_TCP=tcp://10.55.255.5:80\r\n",
      "VIZIER_CORE_REST_PORT=tcp://10.55.255.5:80\r\n",
      "VIZIER_CORE_REST_SERVICE_HOST=10.55.255.5\r\n",
      "VIZIER_CORE_REST_SERVICE_PORT=80\r\n",
      "VIZIER_CORE_REST_SERVICE_PORT_API=80\r\n",
      "VIZIER_CORE_SERVICE_HOST=10.55.242.185\r\n",
      "VIZIER_CORE_SERVICE_PORT=6789\r\n",
      "VIZIER_CORE_SERVICE_PORT_API=6789\r\n",
      "VIZIER_DB_PORT_3306_TCP_ADDR=10.55.247.70\r\n",
      "VIZIER_DB_PORT_3306_TCP_PORT=3306\r\n",
      "VIZIER_DB_PORT_3306_TCP_PROTO=tcp\r\n",
      "VIZIER_DB_PORT_3306_TCP=tcp://10.55.247.70:3306\r\n",
      "VIZIER_DB_PORT=tcp://10.55.247.70:3306\r\n",
      "VIZIER_DB_SERVICE_HOST=10.55.247.70\r\n",
      "VIZIER_DB_SERVICE_PORT=3306\r\n",
      "VIZIER_DB_SERVICE_PORT_DBAPI=3306\r\n",
      "VIZIER_SUGGESTION_BAYESIANOPTIMIZATION_PORT_6789_TCP_ADDR=10.55.240.155\r\n",
      "VIZIER_SUGGESTION_BAYESIANOPTIMIZATION_PORT_6789_TCP_PORT=6789\r\n",
      "VIZIER_SUGGESTION_BAYESIANOPTIMIZATION_PORT_6789_TCP_PROTO=tcp\r\n",
      "VIZIER_SUGGESTION_BAYESIANOPTIMIZATION_PORT_6789_TCP=tcp://10.55.240.155:6789\r\n",
      "VIZIER_SUGGESTION_BAYESIANOPTIMIZATION_PORT=tcp://10.55.240.155:6789\r\n",
      "VIZIER_SUGGESTION_BAYESIANOPTIMIZATION_SERVICE_HOST=10.55.240.155\r\n",
      "VIZIER_SUGGESTION_BAYESIANOPTIMIZATION_SERVICE_PORT=6789\r\n",
      "VIZIER_SUGGESTION_BAYESIANOPTIMIZATION_SERVICE_PORT_API=6789\r\n",
      "VIZIER_SUGGESTION_GRID_PORT_6789_TCP_ADDR=10.55.244.167\r\n",
      "VIZIER_SUGGESTION_GRID_PORT_6789_TCP_PORT=6789\r\n",
      "VIZIER_SUGGESTION_GRID_PORT_6789_TCP_PROTO=tcp\r\n",
      "VIZIER_SUGGESTION_GRID_PORT_6789_TCP=tcp://10.55.244.167:6789\r\n",
      "VIZIER_SUGGESTION_GRID_PORT=tcp://10.55.244.167:6789\r\n",
      "VIZIER_SUGGESTION_GRID_SERVICE_HOST=10.55.244.167\r\n",
      "VIZIER_SUGGESTION_GRID_SERVICE_PORT=6789\r\n",
      "VIZIER_SUGGESTION_GRID_SERVICE_PORT_API=6789\r\n",
      "VIZIER_SUGGESTION_HYPERBAND_PORT_6789_TCP_ADDR=10.55.253.86\r\n",
      "VIZIER_SUGGESTION_HYPERBAND_PORT_6789_TCP_PORT=6789\r\n",
      "VIZIER_SUGGESTION_HYPERBAND_PORT_6789_TCP_PROTO=tcp\r\n",
      "VIZIER_SUGGESTION_HYPERBAND_PORT_6789_TCP=tcp://10.55.253.86:6789\r\n",
      "VIZIER_SUGGESTION_HYPERBAND_PORT=tcp://10.55.253.86:6789\r\n",
      "VIZIER_SUGGESTION_HYPERBAND_SERVICE_HOST=10.55.253.86\r\n",
      "VIZIER_SUGGESTION_HYPERBAND_SERVICE_PORT=6789\r\n",
      "VIZIER_SUGGESTION_HYPERBAND_SERVICE_PORT_API=6789\r\n",
      "VIZIER_SUGGESTION_RANDOM_PORT_6789_TCP_ADDR=10.55.249.181\r\n",
      "VIZIER_SUGGESTION_RANDOM_PORT_6789_TCP_PORT=6789\r\n",
      "VIZIER_SUGGESTION_RANDOM_PORT_6789_TCP_PROTO=tcp\r\n",
      "VIZIER_SUGGESTION_RANDOM_PORT_6789_TCP=tcp://10.55.249.181:6789\r\n",
      "VIZIER_SUGGESTION_RANDOM_PORT=tcp://10.55.249.181:6789\r\n",
      "VIZIER_SUGGESTION_RANDOM_SERVICE_HOST=10.55.249.181\r\n",
      "VIZIER_SUGGESTION_RANDOM_SERVICE_PORT=6789\r\n",
      "VIZIER_SUGGESTION_RANDOM_SERVICE_PORT_API=6789\r\n",
      "WHOAMI_APP_PORT_80_TCP_ADDR=10.55.255.179\r\n",
      "WHOAMI_APP_PORT_80_TCP_PORT=80\r\n",
      "WHOAMI_APP_PORT_80_TCP_PROTO=tcp\r\n",
      "WHOAMI_APP_PORT_80_TCP=tcp://10.55.255.179:80\r\n",
      "WHOAMI_APP_PORT=tcp://10.55.255.179:80\r\n",
      "WHOAMI_APP_SERVICE_HOST=10.55.255.179\r\n",
      "WHOAMI_APP_SERVICE_PORT=80\r\n"
     ]
    }
   ],
   "source": []
  },
  {
   "cell_type": "code",
   "execution_count": 18,
   "metadata": {},
   "outputs": [
    {
     "name": "stdout",
     "output_type": "stream",
     "text": [
      "Help on method set_builder in module fairing.config:\n",
      "\n",
      "set_builder(name='append', **kwargs) method of fairing.config.Config instance\n",
      "\n"
     ]
    }
   ],
   "source": [
    "help(fairing.config.set_builder)"
   ]
  },
  {
   "cell_type": "markdown",
   "metadata": {},
   "source": [
    "# Download and Partition Dataset"
   ]
  },
  {
   "cell_type": "code",
   "execution_count": 9,
   "metadata": {},
   "outputs": [],
   "source": [
    "import pandas as pd\n",
    "from sklearn.model_selection import train_test_split\n",
    "\n",
    "pd.set_option('max_colwidth', 1000)"
   ]
  },
  {
   "cell_type": "code",
   "execution_count": 10,
   "metadata": {},
   "outputs": [
    {
     "name": "stdout",
     "output_type": "stream",
     "text": [
      "Train: 2,698,578 rows 10 columns\n",
      "Test: 476,220 rows 10 columns\n"
     ]
    }
   ],
   "source": [
    "df = pd.concat([pd.read_csv(f'https://storage.googleapis.com/codenet/issue_labels/00000000000{i}.csv.gz')\n",
    "                for i in range(10)])\n",
    "\n",
    "#split data into train/test\n",
    "traindf, testdf = train_test_split(df, test_size=.15)\n",
    "\n",
    "traindf.to_pickle('traindf.pkl')\n",
    "testdf.to_pickle('testdf.pkl')\n",
    "\n",
    "#print out stats about shape of data\n",
    "print(f'Train: {traindf.shape[0]:,} rows {traindf.shape[1]:,} columns')\n",
    "print(f'Test: {testdf.shape[0]:,} rows {testdf.shape[1]:,} columns')"
   ]
  },
  {
   "cell_type": "markdown",
   "metadata": {},
   "source": [
    "### Discussion of the data"
   ]
  },
  {
   "cell_type": "code",
   "execution_count": 7,
   "metadata": {},
   "outputs": [
    {
     "data": {
      "text/html": [
       "<div>\n",
       "<style scoped>\n",
       "    .dataframe tbody tr th:only-of-type {\n",
       "        vertical-align: middle;\n",
       "    }\n",
       "\n",
       "    .dataframe tbody tr th {\n",
       "        vertical-align: top;\n",
       "    }\n",
       "\n",
       "    .dataframe thead th {\n",
       "        text-align: right;\n",
       "    }\n",
       "</style>\n",
       "<table border=\"1\" class=\"dataframe\">\n",
       "  <thead>\n",
       "    <tr style=\"text-align: right;\">\n",
       "      <th></th>\n",
       "      <th>url</th>\n",
       "      <th>repo</th>\n",
       "      <th>title</th>\n",
       "      <th>body</th>\n",
       "      <th>num_labels</th>\n",
       "      <th>labels</th>\n",
       "      <th>c_bug</th>\n",
       "      <th>c_feature</th>\n",
       "      <th>c_question</th>\n",
       "      <th>class_int</th>\n",
       "    </tr>\n",
       "  </thead>\n",
       "  <tbody>\n",
       "    <tr>\n",
       "      <th>112473</th>\n",
       "      <td>\"https://github.com/DockStation/dockstation/issues/6\"</td>\n",
       "      <td>DockStation/dockstation</td>\n",
       "      <td>feature request: image layers window hide</td>\n",
       "      <td>some feedback for this window:\\r \\r ! image  https://cloud.githubusercontent.com/assets/9369080/25952392/3769f842-3669-11e7-8a91-4ed2de640246.png \\r \\r \\r it's really cool, but blocking.  i think users would prefer to be able hide it  the \\ ok\\  was not hiding it in my case - don't know if it should?</td>\n",
       "      <td>2</td>\n",
       "      <td>[\"enhancement\", \"wish\"]</td>\n",
       "      <td>False</td>\n",
       "      <td>True</td>\n",
       "      <td>False</td>\n",
       "      <td>1</td>\n",
       "    </tr>\n",
       "    <tr>\n",
       "      <th>33329</th>\n",
       "      <td>\"https://github.com/julianschritt/secreth_telegrambot/issues/2\"</td>\n",
       "      <td>julianschritt/secreth_telegrambot</td>\n",
       "      <td>grant group admins permissions to /cancelgame and /startgame</td>\n",
       "      <td>ending a game requires the person who started it to end it. even kicking and re-adding the bot doesn't close an existing game. so if the person who started a game is afk for a long time the bot becomes useless for that group.</td>\n",
       "      <td>1</td>\n",
       "      <td>[\"enhancement\", \"enhancement\"]</td>\n",
       "      <td>False</td>\n",
       "      <td>True</td>\n",
       "      <td>False</td>\n",
       "      <td>1</td>\n",
       "    </tr>\n",
       "    <tr>\n",
       "      <th>95978</th>\n",
       "      <td>\"https://github.com/remotestorage/remotestorage-bookmarks-chrome/issues/3\"</td>\n",
       "      <td>remotestorage/remotestorage-bookmarks-chrome</td>\n",
       "      <td>deprecate in favor of memm?</td>\n",
       "      <td>this thing is super old and nobody's actively maintaining it. i don't know if someone's actively using it, but i think it would make sense to direct people coming here to https://github.com/lesion/memm, which works and is maintained by @lesion, who's also a core contributor to rs.js.</td>\n",
       "      <td>1</td>\n",
       "      <td>[\"question\"]</td>\n",
       "      <td>False</td>\n",
       "      <td>False</td>\n",
       "      <td>True</td>\n",
       "      <td>2</td>\n",
       "    </tr>\n",
       "  </tbody>\n",
       "</table>\n",
       "</div>"
      ],
      "text/plain": [
       "                                                                               url  \\\n",
       "112473                       \"https://github.com/DockStation/dockstation/issues/6\"   \n",
       "33329              \"https://github.com/julianschritt/secreth_telegrambot/issues/2\"   \n",
       "95978   \"https://github.com/remotestorage/remotestorage-bookmarks-chrome/issues/3\"   \n",
       "\n",
       "                                                repo  \\\n",
       "112473                       DockStation/dockstation   \n",
       "33329              julianschritt/secreth_telegrambot   \n",
       "95978   remotestorage/remotestorage-bookmarks-chrome   \n",
       "\n",
       "                                                               title  \\\n",
       "112473                     feature request: image layers window hide   \n",
       "33329   grant group admins permissions to /cancelgame and /startgame   \n",
       "95978                                    deprecate in favor of memm?   \n",
       "\n",
       "                                                                                                                                                                                                                                                                                                                 body  \\\n",
       "112473  some feedback for this window:\\r \\r ! image  https://cloud.githubusercontent.com/assets/9369080/25952392/3769f842-3669-11e7-8a91-4ed2de640246.png \\r \\r \\r it's really cool, but blocking.  i think users would prefer to be able hide it  the \\ ok\\  was not hiding it in my case - don't know if it should?   \n",
       "33329                                                                               ending a game requires the person who started it to end it. even kicking and re-adding the bot doesn't close an existing game. so if the person who started a game is afk for a long time the bot becomes useless for that group.   \n",
       "95978                    this thing is super old and nobody's actively maintaining it. i don't know if someone's actively using it, but i think it would make sense to direct people coming here to https://github.com/lesion/memm, which works and is maintained by @lesion, who's also a core contributor to rs.js.   \n",
       "\n",
       "        num_labels                          labels  c_bug  c_feature  \\\n",
       "112473           2         [\"enhancement\", \"wish\"]  False       True   \n",
       "33329            1  [\"enhancement\", \"enhancement\"]  False       True   \n",
       "95978            1                    [\"question\"]  False      False   \n",
       "\n",
       "        c_question  class_int  \n",
       "112473       False          1  \n",
       "33329        False          1  \n",
       "95978         True          2  "
      ]
     },
     "execution_count": 7,
     "metadata": {},
     "output_type": "execute_result"
    }
   ],
   "source": [
    "# preview data\n",
    "traindf.head(3)"
   ]
  },
  {
   "cell_type": "markdown",
   "metadata": {},
   "source": [
    "Discussion of the data:  \n",
    "\n",
    "- url:        url where you can find this issue\n",
    "- repo:       owner/repo name\n",
    "- title:      title of the issue\n",
    "- body:       body of the issue, not including comments\n",
    "- num_labels: number of issue labels\n",
    "- labels:     an array of labels applied a user manually applied to the issue (represented as a string)\n",
    "- c_bug:      boolean flag that indicates if the issue label corresponds to a bug\n",
    "- c_feature:  boolean flag that indicates if the issue label corresponds to a feature\n",
    "- c_question: boolean flag that indicates if the issue label corresponds to a question\n",
    "- class_int:  integer between 0 - 2 that corresponds to the class label.  **0=bug, 1=feature, 2=question**"
   ]
  },
  {
   "cell_type": "markdown",
   "metadata": {},
   "source": [
    "### Summary Statistics"
   ]
  },
  {
   "cell_type": "markdown",
   "metadata": {},
   "source": [
    "Class frequency **0=bug, 1=feature, 2=question**"
   ]
  },
  {
   "cell_type": "code",
   "execution_count": 14,
   "metadata": {},
   "outputs": [
    {
     "data": {
      "text/plain": [
       "class_int\n",
       "0    1211335\n",
       "1    1231499\n",
       "2     255744\n",
       "dtype: int64"
      ]
     },
     "execution_count": 14,
     "metadata": {},
     "output_type": "execute_result"
    }
   ],
   "source": [
    "traindf.groupby('class_int').size()"
   ]
  },
  {
   "cell_type": "markdown",
   "metadata": {},
   "source": [
    "number of unique repos"
   ]
  },
  {
   "cell_type": "code",
   "execution_count": 28,
   "metadata": {},
   "outputs": [
    {
     "name": "stdout",
     "output_type": "stream",
     "text": [
      " Avg # of issues per repo: 7.6\n",
      " Avg # of issues per org: 8.7\n"
     ]
    }
   ],
   "source": [
    "print(f' Avg # of issues per repo: {len(traindf) / traindf.repo.nunique():.1f}')\n",
    "print(f\" Avg # of issues per org: {len(traindf) / traindf.repo.apply(lambda x: x.split('/')[-1]).nunique():.1f}\")"
   ]
  },
  {
   "cell_type": "markdown",
   "metadata": {},
   "source": [
    "Most popular repos by # of issues:\n",
    "\n",
    " - `pcnt` = percent of total issues in the dataset\n",
    " - `count` = number of issues in the dataset for that repo"
   ]
  },
  {
   "cell_type": "code",
   "execution_count": 38,
   "metadata": {},
   "outputs": [
    {
     "data": {
      "text/html": [
       "<div>\n",
       "<style scoped>\n",
       "    .dataframe tbody tr th:only-of-type {\n",
       "        vertical-align: middle;\n",
       "    }\n",
       "\n",
       "    .dataframe tbody tr th {\n",
       "        vertical-align: top;\n",
       "    }\n",
       "\n",
       "    .dataframe thead th {\n",
       "        text-align: right;\n",
       "    }\n",
       "</style>\n",
       "<table border=\"1\" class=\"dataframe\">\n",
       "  <thead>\n",
       "    <tr style=\"text-align: right;\">\n",
       "      <th></th>\n",
       "      <th>pcnt</th>\n",
       "      <th>count</th>\n",
       "    </tr>\n",
       "    <tr>\n",
       "      <th>repo</th>\n",
       "      <th></th>\n",
       "      <th></th>\n",
       "    </tr>\n",
       "  </thead>\n",
       "  <tbody>\n",
       "    <tr>\n",
       "      <th>Microsoft/vscode</th>\n",
       "      <td>0.005128</td>\n",
       "      <td>16281</td>\n",
       "    </tr>\n",
       "    <tr>\n",
       "      <th>rancher/rancher</th>\n",
       "      <td>0.002450</td>\n",
       "      <td>7779</td>\n",
       "    </tr>\n",
       "    <tr>\n",
       "      <th>MicrosoftDocs/azure-docs</th>\n",
       "      <td>0.001963</td>\n",
       "      <td>6233</td>\n",
       "    </tr>\n",
       "    <tr>\n",
       "      <th>godotengine/godot</th>\n",
       "      <td>0.001952</td>\n",
       "      <td>6198</td>\n",
       "    </tr>\n",
       "    <tr>\n",
       "      <th>ansible/ansible</th>\n",
       "      <td>0.001950</td>\n",
       "      <td>6192</td>\n",
       "    </tr>\n",
       "    <tr>\n",
       "      <th>hashicorp/terraform</th>\n",
       "      <td>0.001649</td>\n",
       "      <td>5235</td>\n",
       "    </tr>\n",
       "    <tr>\n",
       "      <th>kubernetes/kubernetes</th>\n",
       "      <td>0.001621</td>\n",
       "      <td>5147</td>\n",
       "    </tr>\n",
       "    <tr>\n",
       "      <th>lionheart/openradar-mirror</th>\n",
       "      <td>0.001330</td>\n",
       "      <td>4221</td>\n",
       "    </tr>\n",
       "    <tr>\n",
       "      <th>elastic/kibana</th>\n",
       "      <td>0.001201</td>\n",
       "      <td>3813</td>\n",
       "    </tr>\n",
       "    <tr>\n",
       "      <th>magento/magento2</th>\n",
       "      <td>0.001129</td>\n",
       "      <td>3583</td>\n",
       "    </tr>\n",
       "    <tr>\n",
       "      <th>dart-lang/sdk</th>\n",
       "      <td>0.001127</td>\n",
       "      <td>3579</td>\n",
       "    </tr>\n",
       "    <tr>\n",
       "      <th>dotnet/corefx</th>\n",
       "      <td>0.001121</td>\n",
       "      <td>3558</td>\n",
       "    </tr>\n",
       "    <tr>\n",
       "      <th>eclipse/che</th>\n",
       "      <td>0.001114</td>\n",
       "      <td>3538</td>\n",
       "    </tr>\n",
       "    <tr>\n",
       "      <th>brave/browser-laptop</th>\n",
       "      <td>0.001067</td>\n",
       "      <td>3389</td>\n",
       "    </tr>\n",
       "    <tr>\n",
       "      <th>kbower/tickettest1</th>\n",
       "      <td>0.000920</td>\n",
       "      <td>2921</td>\n",
       "    </tr>\n",
       "    <tr>\n",
       "      <th>Kademi/kademi-dev</th>\n",
       "      <td>0.000887</td>\n",
       "      <td>2815</td>\n",
       "    </tr>\n",
       "    <tr>\n",
       "      <th>owncloud/core</th>\n",
       "      <td>0.000819</td>\n",
       "      <td>2600</td>\n",
       "    </tr>\n",
       "    <tr>\n",
       "      <th>elastic/elasticsearch</th>\n",
       "      <td>0.000809</td>\n",
       "      <td>2568</td>\n",
       "    </tr>\n",
       "    <tr>\n",
       "      <th>eslint/eslint</th>\n",
       "      <td>0.000765</td>\n",
       "      <td>2428</td>\n",
       "    </tr>\n",
       "    <tr>\n",
       "      <th>angular/angular</th>\n",
       "      <td>0.000719</td>\n",
       "      <td>2283</td>\n",
       "    </tr>\n",
       "    <tr>\n",
       "      <th>openshift/origin</th>\n",
       "      <td>0.000717</td>\n",
       "      <td>2277</td>\n",
       "    </tr>\n",
       "    <tr>\n",
       "      <th>CartoDB/cartodb</th>\n",
       "      <td>0.000685</td>\n",
       "      <td>2174</td>\n",
       "    </tr>\n",
       "    <tr>\n",
       "      <th>cockroachdb/cockroach</th>\n",
       "      <td>0.000655</td>\n",
       "      <td>2081</td>\n",
       "    </tr>\n",
       "    <tr>\n",
       "      <th>RocketChat/Rocket.Chat</th>\n",
       "      <td>0.000650</td>\n",
       "      <td>2065</td>\n",
       "    </tr>\n",
       "    <tr>\n",
       "      <th>Microsoft/AL</th>\n",
       "      <td>0.000647</td>\n",
       "      <td>2055</td>\n",
       "    </tr>\n",
       "  </tbody>\n",
       "</table>\n",
       "</div>"
      ],
      "text/plain": [
       "                                pcnt  count\n",
       "repo                                       \n",
       "Microsoft/vscode            0.005128  16281\n",
       "rancher/rancher             0.002450   7779\n",
       "MicrosoftDocs/azure-docs    0.001963   6233\n",
       "godotengine/godot           0.001952   6198\n",
       "ansible/ansible             0.001950   6192\n",
       "hashicorp/terraform         0.001649   5235\n",
       "kubernetes/kubernetes       0.001621   5147\n",
       "lionheart/openradar-mirror  0.001330   4221\n",
       "elastic/kibana              0.001201   3813\n",
       "magento/magento2            0.001129   3583\n",
       "dart-lang/sdk               0.001127   3579\n",
       "dotnet/corefx               0.001121   3558\n",
       "eclipse/che                 0.001114   3538\n",
       "brave/browser-laptop        0.001067   3389\n",
       "kbower/tickettest1          0.000920   2921\n",
       "Kademi/kademi-dev           0.000887   2815\n",
       "owncloud/core               0.000819   2600\n",
       "elastic/elasticsearch       0.000809   2568\n",
       "eslint/eslint               0.000765   2428\n",
       "angular/angular             0.000719   2283\n",
       "openshift/origin            0.000717   2277\n",
       "CartoDB/cartodb             0.000685   2174\n",
       "cockroachdb/cockroach       0.000655   2081\n",
       "RocketChat/Rocket.Chat      0.000650   2065\n",
       "Microsoft/AL                0.000647   2055"
      ]
     },
     "execution_count": 38,
     "metadata": {},
     "output_type": "execute_result"
    }
   ],
   "source": [
    "pareto_df = pd.DataFrame({'pcnt': df.groupby('repo').size() / len(df), 'count': df.groupby('repo').size()})\n",
    "pareto_df.sort_values('pcnt', ascending=False).head(20)"
   ]
  },
  {
   "cell_type": "markdown",
   "metadata": {},
   "source": [
    "# Pre-Process Data"
   ]
  },
  {
   "cell_type": "markdown",
   "metadata": {},
   "source": [
    "To process the raw text data, we will use [ktext](https://github.com/hamelsmu/ktext)"
   ]
  },
  {
   "cell_type": "code",
   "execution_count": 50,
   "metadata": {},
   "outputs": [],
   "source": [
    "from ktext.preprocess import processor\n",
    "import dill as dpickle\n",
    "import numpy as np"
   ]
  },
  {
   "cell_type": "markdown",
   "metadata": {},
   "source": [
    "Clean, tokenize, and apply padding / truncating such that each document length = 75th percentile for the dataset.\n",
    "Retain only the top keep_n words in the vocabulary and set the remaining words to 1 which will become common index for rare words.\n",
    "\n",
    "**Warning:** the below block of code can take a long time to execute.\n",
    "\n",
    "#### Learn the vocabulary from the training dataset"
   ]
  },
  {
   "cell_type": "code",
   "execution_count": 40,
   "metadata": {},
   "outputs": [
    {
     "name": "stderr",
     "output_type": "stream",
     "text": [
      "WARNING:root:....tokenizing data\n",
      "WARNING:root:Setting maximum document length to 105 based upon hueristic of 0.75 percentile.\n",
      " See full histogram by insepecting the `document_length_stats` attribute.\n",
      "WARNING:root:(1/2) done. 855 sec\n",
      "WARNING:root:....building corpus\n",
      "WARNING:root:(2/2) done. 145 sec\n",
      "WARNING:root:Finished parsing 2,698,578 documents.\n",
      "WARNING:root:...fit is finished, beginning transform\n",
      "WARNING:root:...padding data\n",
      "WARNING:root:done. 102 sec\n",
      "WARNING:root:....tokenizing data\n",
      "WARNING:root:Setting maximum document length to 10 based upon hueristic of 0.75 percentile.\n",
      " See full histogram by insepecting the `document_length_stats` attribute.\n",
      "WARNING:root:(1/2) done. 66 sec\n",
      "WARNING:root:....building corpus\n",
      "WARNING:root:(2/2) done. 17 sec\n",
      "WARNING:root:Finished parsing 2,698,578 documents.\n",
      "WARNING:root:...fit is finished, beginning transform\n",
      "WARNING:root:...padding data\n",
      "WARNING:root:done. 23 sec\n"
     ]
    },
    {
     "name": "stdout",
     "output_type": "stream",
     "text": [
      "CPU times: user 8min 8s, sys: 32.3 s, total: 8min 40s\n",
      "Wall time: 20min 24s\n"
     ]
    }
   ],
   "source": [
    "%%time\n",
    "\n",
    "train_body_raw = traindf.body.tolist()\n",
    "train_title_raw = traindf.title.tolist()\n",
    "\n",
    "# Clean, tokenize, and apply padding / truncating such that each document length = 75th percentile for the dataset.\n",
    "#  also, retain only the top keep_n words in the vocabulary and set the remaining words\n",
    "#  to 1 which will become common index for rare words \n",
    "\n",
    "# process the issue body data\n",
    "body_pp = processor(hueristic_pct_padding=.75, keep_n=8000)\n",
    "train_body_vecs = body_pp.fit_transform(train_body_raw)\n",
    "\n",
    "# process the title data\n",
    "title_pp = processor(hueristic_pct_padding=.75, keep_n=4500)\n",
    "train_title_vecs = title_pp.fit_transform(train_title_raw)"
   ]
  },
  {
   "cell_type": "markdown",
   "metadata": {},
   "source": [
    "#### Apply transformations to Test Data"
   ]
  },
  {
   "cell_type": "code",
   "execution_count": 41,
   "metadata": {},
   "outputs": [
    {
     "name": "stderr",
     "output_type": "stream",
     "text": [
      "WARNING:root:...tokenizing data\n",
      "WARNING:root:...indexing data\n",
      "WARNING:root:...padding data\n",
      "WARNING:root:...tokenizing data\n",
      "WARNING:root:...indexing data\n",
      "WARNING:root:...padding data\n"
     ]
    },
    {
     "name": "stdout",
     "output_type": "stream",
     "text": [
      "CPU times: user 57.5 s, sys: 31 s, total: 1min 28s\n",
      "Wall time: 4min 16s\n"
     ]
    }
   ],
   "source": [
    "%%time\n",
    "\n",
    "test_body_raw = testdf.body.tolist()\n",
    "test_title_raw = testdf.title.tolist()\n",
    "\n",
    "test_body_vecs = body_pp.transform_parallel(test_body_raw)\n",
    "test_title_vecs = title_pp.transform_parallel(test_title_raw)"
   ]
  },
  {
   "cell_type": "markdown",
   "metadata": {},
   "source": [
    "#### Extract Labels\n",
    "\n",
    "Add an additional dimension to the end to facilitate compatibility with Keras."
   ]
  },
  {
   "cell_type": "code",
   "execution_count": 53,
   "metadata": {},
   "outputs": [],
   "source": [
    "train_labels = np.expand_dims(traindf.class_int.values, -1)\n",
    "test_labels = np.expand_dims(testdf.class_int.values, -1)"
   ]
  },
  {
   "cell_type": "markdown",
   "metadata": {},
   "source": [
    "#### Check shapes"
   ]
  },
  {
   "cell_type": "code",
   "execution_count": 64,
   "metadata": {},
   "outputs": [],
   "source": [
    "# the number of rows in data for the body, title and labels should be the same for both train and test partitions\n",
    "assert train_body_vecs.shape[0] == train_title_vecs.shape[0] == train_labels.shape[0]\n",
    "assert test_body_vecs.shape[0] == test_title_vecs.shape[0] == test_labels.shape[0]"
   ]
  },
  {
   "cell_type": "markdown",
   "metadata": {},
   "source": [
    "#### Save pre-processors and data to disk"
   ]
  },
  {
   "cell_type": "code",
   "execution_count": 55,
   "metadata": {},
   "outputs": [],
   "source": [
    "# Save the preprocessor\n",
    "with open('body_pp.dpkl', 'wb') as f:\n",
    "    dpickle.dump(body_pp, f)\n",
    "\n",
    "with open('title_pp.dpkl', 'wb') as f:\n",
    "    dpickle.dump(title_pp, f)\n",
    "\n",
    "# Save the processed data\n",
    "np.save('train_title_vecs.npy', train_title_vecs)\n",
    "np.save('train_body_vecs.npy', train_body_vecs)\n",
    "np.save('test_body_vecs.npy', test_body_vecs)\n",
    "np.save('test_title_vecs.npy', test_title_vecs)\n",
    "np.save('train_labels.npy', train_labels)\n",
    "np.save('test_labels.npy', test_labels)"
   ]
  },
  {
   "cell_type": "markdown",
   "metadata": {},
   "source": [
    "# Build Architecture & Train Model"
   ]
  },
  {
   "cell_type": "code",
   "execution_count": 8,
   "metadata": {},
   "outputs": [],
   "source": [
    "import tensorflow as tf\n",
    "from tensorflow.keras.utils import multi_gpu_model\n",
    "from tensorflow.keras.models import Model\n",
    "from tensorflow.keras.layers import Input, GRU, Dense, Embedding, BatchNormalization, Concatenate\n",
    "from tensorflow.keras.optimizers import Adam\n",
    "import numpy as np\n",
    "import dill as dpickle"
   ]
  },
  {
   "cell_type": "code",
   "execution_count": 9,
   "metadata": {},
   "outputs": [
    {
     "name": "stdout",
     "output_type": "stream",
     "text": [
      "1.12.0\n"
     ]
    }
   ],
   "source": [
    "print(tf.__version__)"
   ]
  },
  {
   "cell_type": "markdown",
   "metadata": {},
   "source": [
    "Load the data and shape information"
   ]
  },
  {
   "cell_type": "code",
   "execution_count": 3,
   "metadata": {},
   "outputs": [
    {
     "name": "stderr",
     "output_type": "stream",
     "text": [
      "Using TensorFlow backend.\n"
     ]
    }
   ],
   "source": [
    "with open('title_pp.dpkl', 'rb') as f:\n",
    "    title_pp = dpickle.load(f)\n",
    "\n",
    "with open('body_pp.dpkl', 'rb') as f:\n",
    "    body_pp = dpickle.load(f)\n",
    "    \n",
    "#load the training data and labels\n",
    "train_body_vecs = np.load('train_body_vecs.npy')\n",
    "train_title_vecs = np.load('train_title_vecs.npy')\n",
    "train_labels = np.load('train_labels.npy')\n",
    "\n",
    "#load the test data and labels\n",
    "test_body_vecs = np.load('test_body_vecs.npy')\n",
    "test_title_vecs = np.load('test_title_vecs.npy')\n",
    "test_labels = np.load('test_labels.npy')\n",
    "\n",
    "\n",
    "issue_body_doc_length = train_body_vecs.shape[1]\n",
    "issue_title_doc_length = train_title_vecs.shape[1]\n",
    "\n",
    "body_vocab_size = body_pp.n_tokens\n",
    "title_vocab_size = title_pp.n_tokens\n",
    "\n",
    "num_classes = len(set(train_labels[:, 0]))\n",
    "assert num_classes == 3"
   ]
  },
  {
   "cell_type": "markdown",
   "metadata": {},
   "source": [
    "#### Build Model Architecture\n",
    "\n",
    "We did very little hyperparameter tuning.  Keeping model simple as possible."
   ]
  },
  {
   "cell_type": "code",
   "execution_count": 27,
   "metadata": {},
   "outputs": [],
   "source": [
    "body_input = Input(shape=(issue_body_doc_length,), name='Body-Input')\n",
    "title_input = Input(shape=(issue_title_doc_length,), name='Title-Input')\n",
    "\n",
    "body = Embedding(body_vocab_size, 50, name='Body-Embedding')(body_input)\n",
    "title = Embedding(title_vocab_size, 50, name='Title-Embedding')(title_input)\n",
    "\n",
    "body = BatchNormalization()(body)\n",
    "body = GRU(100, name='Body-Encoder')(body)\n",
    "\n",
    "title = BatchNormalization()(title)\n",
    "title = GRU(75, name='Title-Encoder')(title)\n",
    "\n",
    "x = Concatenate(name='Concat')([body, title])\n",
    "x = BatchNormalization()(x)\n",
    "out = Dense(num_classes, activation='softmax')(x)\n",
    "\n",
    "model = Model([body_input, title_input], out)\n",
    "\n",
    "model.compile(optimizer=Adam(lr=0.001), \n",
    "              loss='sparse_categorical_crossentropy', \n",
    "              metrics=['accuracy'])"
   ]
  },
  {
   "cell_type": "code",
   "execution_count": 28,
   "metadata": {},
   "outputs": [
    {
     "name": "stdout",
     "output_type": "stream",
     "text": [
      "__________________________________________________________________________________________________\n",
      "Layer (type)                    Output Shape         Param #     Connected to                     \n",
      "==================================================================================================\n",
      "Body-Input (InputLayer)         (None, 105)          0                                            \n",
      "__________________________________________________________________________________________________\n",
      "Title-Input (InputLayer)        (None, 10)           0                                            \n",
      "__________________________________________________________________________________________________\n",
      "Body-Embedding (Embedding)      (None, 105, 50)      400050      Body-Input[0][0]                 \n",
      "__________________________________________________________________________________________________\n",
      "Title-Embedding (Embedding)     (None, 10, 50)       225050      Title-Input[0][0]                \n",
      "__________________________________________________________________________________________________\n",
      "batch_normalization_15 (BatchNo (None, 105, 50)      200         Body-Embedding[0][0]             \n",
      "__________________________________________________________________________________________________\n",
      "batch_normalization_16 (BatchNo (None, 10, 50)       200         Title-Embedding[0][0]            \n",
      "__________________________________________________________________________________________________\n",
      "Body-Encoder (GRU)              (None, 100)          45300       batch_normalization_15[0][0]     \n",
      "__________________________________________________________________________________________________\n",
      "Title-Encoder (GRU)             (None, 75)           28350       batch_normalization_16[0][0]     \n",
      "__________________________________________________________________________________________________\n",
      "Concat (Concatenate)            (None, 175)          0           Body-Encoder[0][0]               \n",
      "                                                                 Title-Encoder[0][0]              \n",
      "__________________________________________________________________________________________________\n",
      "batch_normalization_17 (BatchNo (None, 175)          700         Concat[0][0]                     \n",
      "__________________________________________________________________________________________________\n",
      "dense_5 (Dense)                 (None, 3)            528         batch_normalization_17[0][0]     \n",
      "==================================================================================================\n",
      "Total params: 700,378\n",
      "Trainable params: 699,828\n",
      "Non-trainable params: 550\n",
      "__________________________________________________________________________________________________\n"
     ]
    }
   ],
   "source": [
    "model.summary()"
   ]
  },
  {
   "cell_type": "markdown",
   "metadata": {},
   "source": [
    "#### Train Model"
   ]
  },
  {
   "cell_type": "code",
   "execution_count": 29,
   "metadata": {},
   "outputs": [],
   "source": [
    "from tensorflow.keras.callbacks import CSVLogger, ModelCheckpoint\n",
    "\n",
    "script_name_base = 'Issue_Label_v1'\n",
    "csv_logger = CSVLogger('{:}.log'.format(script_name_base))\n",
    "model_checkpoint = ModelCheckpoint('{:}_best_model.hdf5'.format(script_name_base),\n",
    "                                   save_best_only=True)"
   ]
  },
  {
   "cell_type": "code",
   "execution_count": 30,
   "metadata": {},
   "outputs": [
    {
     "name": "stdout",
     "output_type": "stream",
     "text": [
      "Train on 2698578 samples, validate on 476220 samples\n",
      "Epoch 1/4\n",
      "2698578/2698578 [==============================] - 603s 223us/step - loss: 0.5008 - acc: 0.8086 - val_loss: 0.4699 - val_acc: 0.8209\n",
      "Epoch 2/4\n",
      "2698578/2698578 [==============================] - 599s 222us/step - loss: 0.4558 - acc: 0.8265 - val_loss: 0.4611 - val_acc: 0.8248\n",
      "Epoch 3/4\n",
      "2698578/2698578 [==============================] - 598s 221us/step - loss: 0.4380 - acc: 0.8332 - val_loss: 0.4593 - val_acc: 0.8250\n",
      "Epoch 4/4\n",
      "2698578/2698578 [==============================] - 597s 221us/step - loss: 0.4230 - acc: 0.8393 - val_loss: 0.4616 - val_acc: 0.8243\n"
     ]
    }
   ],
   "source": [
    "batch_size = 900\n",
    "epochs = 4\n",
    "history = model.fit(x=[train_body_vecs, train_title_vecs], \n",
    "                    y=train_labels,\n",
    "                    batch_size=batch_size,\n",
    "                    epochs=epochs,\n",
    "                    validation_data=[(test_body_vecs, test_title_vecs), test_labels], \n",
    "                    callbacks=[csv_logger, model_checkpoint])"
   ]
  },
  {
   "cell_type": "markdown",
   "metadata": {},
   "source": [
    "# Evaluate Model\n",
    "\n",
    "Compute a confusion matrix"
   ]
  },
  {
   "cell_type": "code",
   "execution_count": 37,
   "metadata": {},
   "outputs": [
    {
     "name": "stderr",
     "output_type": "stream",
     "text": [
      "/usr/local/lib/python3.6/dist-packages/tensorflow/python/ops/gradients_impl.py:112: UserWarning: Converting sparse IndexedSlices to a dense Tensor of unknown shape. This may consume a large amount of memory.\n",
      "  \"Converting sparse IndexedSlices to a dense Tensor of unknown shape. \"\n"
     ]
    }
   ],
   "source": [
    "from tensorflow.keras.models import load_model\n",
    "from utils import plot_confusion_matrix\n",
    "\n",
    "\n",
    "#load the test data and labels\n",
    "test_body_vecs = np.load('test_body_vecs.npy')\n",
    "test_title_vecs = np.load('test_title_vecs.npy')\n",
    "test_labels = np.load('test_labels.npy')\n",
    "\n",
    "#load the best model\n",
    "best_model = load_model('Issue_Label_v1_best_model.hdf5')\n",
    "\n",
    "#get predictions\n",
    "y_pred = np.argmax(best_model.predict(x=[test_body_vecs, test_title_vecs],\n",
    "                                      batch_size=15000),\n",
    "                   axis=1)\n",
    "\n",
    "# get labels\n",
    "y_test = test_labels[:, 0]"
   ]
  },
  {
   "cell_type": "code",
   "execution_count": 39,
   "metadata": {},
   "outputs": [
    {
     "name": "stdout",
     "output_type": "stream",
     "text": [
      "Normalized confusion matrix\n",
      "[[0.88173203 0.09765211 0.02061586]\n",
      " [0.1303451  0.83997974 0.02967516]\n",
      " [0.27873486 0.23896011 0.48230502]]\n"
     ]
    },
    {
     "data": {
      "text/plain": [
       "<matplotlib.axes._subplots.AxesSubplot at 0x7f487d90af60>"
      ]
     },
     "execution_count": 39,
     "metadata": {},
     "output_type": "execute_result"
    },
    {
     "data": {
      "image/png": "[encoded data removed]",
      "text/plain": [
       "<Figure size 432x288 with 2 Axes>"
      ]
     },
     "metadata": {
      "needs_background": "light"
     },
     "output_type": "display_data"
    }
   ],
   "source": [
    "plot_confusion_matrix(y_test, \n",
    "                      y_pred, \n",
    "                      classes=np.array(['bug', 'feature', 'question']), \n",
    "                      normalize=True, \n",
    "                      title='Normalized Confusion Matrix')"
   ]
  },
  {
   "cell_type": "markdown",
   "metadata": {},
   "source": [
    "# Make Predictions"
   ]
  },
  {
   "cell_type": "code",
   "execution_count": 5,
   "metadata": {},
   "outputs": [],
   "source": [
    "from utils import IssueLabeler\n",
    "from tensorflow.keras.models import load_model\n",
    "import dill as dpickle"
   ]
  },
  {
   "cell_type": "code",
   "execution_count": 6,
   "metadata": {},
   "outputs": [
    {
     "name": "stderr",
     "output_type": "stream",
     "text": [
      "Using TensorFlow backend.\n"
     ]
    }
   ],
   "source": [
    "#load the best model\n",
    "best_model = load_model('Issue_Label_v1_best_model.hdf5')\n",
    "\n",
    "#load the pre-processors\n",
    "with open('title_pp.dpkl', 'rb') as f:\n",
    "    title_pp = dpickle.load(f)\n",
    "\n",
    "with open('body_pp.dpkl', 'rb') as f:\n",
    "    body_pp = dpickle.load(f)\n",
    "    \n",
    "# instantiate the IssueLabeler object\n",
    "issue_labeler = IssueLabeler(body_text_preprocessor=body_pp,\n",
    "                             title_text_preprocessor=title_pp,\n",
    "                             model=best_model)    "
   ]
  },
  {
   "cell_type": "code",
   "execution_count": 9,
   "metadata": {},
   "outputs": [
    {
     "data": {
      "text/plain": [
       "{'bug': 0.12618249654769897,\n",
       " 'feature': 0.1929263472557068,\n",
       " 'question': 0.6808911561965942}"
      ]
     },
     "execution_count": 9,
     "metadata": {},
     "output_type": "execute_result"
    }
   ],
   "source": [
    "issue_labeler.get_probabilities(body='Can someone please help me?', \n",
    "                                title='random stuff')"
   ]
  },
  {
   "cell_type": "code",
   "execution_count": 10,
   "metadata": {},
   "outputs": [
    {
     "data": {
      "text/plain": [
       "{'bug': 0.019261939451098442,\n",
       " 'feature': 0.9305700659751892,\n",
       " 'question': 0.05016808584332466}"
      ]
     },
     "execution_count": 10,
     "metadata": {},
     "output_type": "execute_result"
    }
   ],
   "source": [
    "issue_labeler.get_probabilities(body='It would be great to add a new button', \n",
    "                                title='requesting a button')"
   ]
  },
  {
   "cell_type": "code",
   "execution_count": 11,
   "metadata": {},
   "outputs": [
    {
     "data": {
      "text/plain": [
       "{'bug': 0.9065071940422058,\n",
       " 'feature': 0.03202613815665245,\n",
       " 'question': 0.06146678701043129}"
      ]
     },
     "execution_count": 11,
     "metadata": {},
     "output_type": "execute_result"
    }
   ],
   "source": [
    "issue_labeler.get_probabilities(body='It does` not work, I get bad errors', \n",
    "                                title='nothing works')"
   ]
  }
 ],
 "metadata": {
  "kernelspec": {
   "display_name": "Python 3",
   "language": "python",
   "name": "python3"
  },
  "language_info": {
   "codemirror_mode": {
    "name": "ipython",
    "version": 3
   },
   "file_extension": ".py",
   "mimetype": "text/x-python",
   "name": "python",
   "nbconvert_exporter": "python",
   "pygments_lexer": "ipython3",
   "version": "3.6.7"
  }
 },
 "nbformat": 4,
 "nbformat_minor": 2
}
